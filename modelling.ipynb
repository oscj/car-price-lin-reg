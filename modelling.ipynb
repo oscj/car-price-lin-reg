{
 "cells": [
  {
   "cell_type": "code",
   "execution_count": 1,
   "metadata": {},
   "outputs": [],
   "source": [
    "import pandas as pd\n",
    "import torch\n",
    "import matplotlib.pyplot as plt\n",
    "import numpy as np\n",
    "import random\n"
   ]
  },
  {
   "cell_type": "code",
   "execution_count": 2,
   "metadata": {},
   "outputs": [],
   "source": [
    "car_data = pd.read_csv('./CarPrice_Assignment.csv')"
   ]
  },
  {
   "cell_type": "code",
   "execution_count": 3,
   "metadata": {},
   "outputs": [
    {
     "output_type": "execute_result",
     "data": {
      "text/plain": [
       "     car_ID  symboling                   CarName fueltype aspiration  \\\n",
       "0         1          3        alfa-romero giulia      gas        std   \n",
       "1         2          3       alfa-romero stelvio      gas        std   \n",
       "2         3          1  alfa-romero Quadrifoglio      gas        std   \n",
       "3         4          2               audi 100 ls      gas        std   \n",
       "4         5          2                audi 100ls      gas        std   \n",
       "..      ...        ...                       ...      ...        ...   \n",
       "200     201         -1           volvo 145e (sw)      gas        std   \n",
       "201     202         -1               volvo 144ea      gas      turbo   \n",
       "202     203         -1               volvo 244dl      gas        std   \n",
       "203     204         -1                 volvo 246   diesel      turbo   \n",
       "204     205         -1               volvo 264gl      gas      turbo   \n",
       "\n",
       "    doornumber      carbody drivewheel enginelocation  wheelbase  carlength  \\\n",
       "0          two  convertible        rwd          front       88.6      168.8   \n",
       "1          two  convertible        rwd          front       88.6      168.8   \n",
       "2          two    hatchback        rwd          front       94.5      171.2   \n",
       "3         four        sedan        fwd          front       99.8      176.6   \n",
       "4         four        sedan        4wd          front       99.4      176.6   \n",
       "..         ...          ...        ...            ...        ...        ...   \n",
       "200       four        sedan        rwd          front      109.1      188.8   \n",
       "201       four        sedan        rwd          front      109.1      188.8   \n",
       "202       four        sedan        rwd          front      109.1      188.8   \n",
       "203       four        sedan        rwd          front      109.1      188.8   \n",
       "204       four        sedan        rwd          front      109.1      188.8   \n",
       "\n",
       "     carwidth  carheight  curbweight enginetype cylindernumber  enginesize  \\\n",
       "0        64.1       48.8        2548       dohc           four         130   \n",
       "1        64.1       48.8        2548       dohc           four         130   \n",
       "2        65.5       52.4        2823       ohcv            six         152   \n",
       "3        66.2       54.3        2337        ohc           four         109   \n",
       "4        66.4       54.3        2824        ohc           five         136   \n",
       "..        ...        ...         ...        ...            ...         ...   \n",
       "200      68.9       55.5        2952        ohc           four         141   \n",
       "201      68.8       55.5        3049        ohc           four         141   \n",
       "202      68.9       55.5        3012       ohcv            six         173   \n",
       "203      68.9       55.5        3217        ohc            six         145   \n",
       "204      68.9       55.5        3062        ohc           four         141   \n",
       "\n",
       "    fuelsystem  boreratio  stroke  compressionratio  horsepower  peakrpm  \\\n",
       "0         mpfi       3.47    2.68               9.0         111     5000   \n",
       "1         mpfi       3.47    2.68               9.0         111     5000   \n",
       "2         mpfi       2.68    3.47               9.0         154     5000   \n",
       "3         mpfi       3.19    3.40              10.0         102     5500   \n",
       "4         mpfi       3.19    3.40               8.0         115     5500   \n",
       "..         ...        ...     ...               ...         ...      ...   \n",
       "200       mpfi       3.78    3.15               9.5         114     5400   \n",
       "201       mpfi       3.78    3.15               8.7         160     5300   \n",
       "202       mpfi       3.58    2.87               8.8         134     5500   \n",
       "203        idi       3.01    3.40              23.0         106     4800   \n",
       "204       mpfi       3.78    3.15               9.5         114     5400   \n",
       "\n",
       "     citympg  highwaympg    price  \n",
       "0         21          27  13495.0  \n",
       "1         21          27  16500.0  \n",
       "2         19          26  16500.0  \n",
       "3         24          30  13950.0  \n",
       "4         18          22  17450.0  \n",
       "..       ...         ...      ...  \n",
       "200       23          28  16845.0  \n",
       "201       19          25  19045.0  \n",
       "202       18          23  21485.0  \n",
       "203       26          27  22470.0  \n",
       "204       19          25  22625.0  \n",
       "\n",
       "[205 rows x 26 columns]"
      ],
      "text/html": "<div>\n<style scoped>\n    .dataframe tbody tr th:only-of-type {\n        vertical-align: middle;\n    }\n\n    .dataframe tbody tr th {\n        vertical-align: top;\n    }\n\n    .dataframe thead th {\n        text-align: right;\n    }\n</style>\n<table border=\"1\" class=\"dataframe\">\n  <thead>\n    <tr style=\"text-align: right;\">\n      <th></th>\n      <th>car_ID</th>\n      <th>symboling</th>\n      <th>CarName</th>\n      <th>fueltype</th>\n      <th>aspiration</th>\n      <th>doornumber</th>\n      <th>carbody</th>\n      <th>drivewheel</th>\n      <th>enginelocation</th>\n      <th>wheelbase</th>\n      <th>carlength</th>\n      <th>carwidth</th>\n      <th>carheight</th>\n      <th>curbweight</th>\n      <th>enginetype</th>\n      <th>cylindernumber</th>\n      <th>enginesize</th>\n      <th>fuelsystem</th>\n      <th>boreratio</th>\n      <th>stroke</th>\n      <th>compressionratio</th>\n      <th>horsepower</th>\n      <th>peakrpm</th>\n      <th>citympg</th>\n      <th>highwaympg</th>\n      <th>price</th>\n    </tr>\n  </thead>\n  <tbody>\n    <tr>\n      <th>0</th>\n      <td>1</td>\n      <td>3</td>\n      <td>alfa-romero giulia</td>\n      <td>gas</td>\n      <td>std</td>\n      <td>two</td>\n      <td>convertible</td>\n      <td>rwd</td>\n      <td>front</td>\n      <td>88.6</td>\n      <td>168.8</td>\n      <td>64.1</td>\n      <td>48.8</td>\n      <td>2548</td>\n      <td>dohc</td>\n      <td>four</td>\n      <td>130</td>\n      <td>mpfi</td>\n      <td>3.47</td>\n      <td>2.68</td>\n      <td>9.0</td>\n      <td>111</td>\n      <td>5000</td>\n      <td>21</td>\n      <td>27</td>\n      <td>13495.0</td>\n    </tr>\n    <tr>\n      <th>1</th>\n      <td>2</td>\n      <td>3</td>\n      <td>alfa-romero stelvio</td>\n      <td>gas</td>\n      <td>std</td>\n      <td>two</td>\n      <td>convertible</td>\n      <td>rwd</td>\n      <td>front</td>\n      <td>88.6</td>\n      <td>168.8</td>\n      <td>64.1</td>\n      <td>48.8</td>\n      <td>2548</td>\n      <td>dohc</td>\n      <td>four</td>\n      <td>130</td>\n      <td>mpfi</td>\n      <td>3.47</td>\n      <td>2.68</td>\n      <td>9.0</td>\n      <td>111</td>\n      <td>5000</td>\n      <td>21</td>\n      <td>27</td>\n      <td>16500.0</td>\n    </tr>\n    <tr>\n      <th>2</th>\n      <td>3</td>\n      <td>1</td>\n      <td>alfa-romero Quadrifoglio</td>\n      <td>gas</td>\n      <td>std</td>\n      <td>two</td>\n      <td>hatchback</td>\n      <td>rwd</td>\n      <td>front</td>\n      <td>94.5</td>\n      <td>171.2</td>\n      <td>65.5</td>\n      <td>52.4</td>\n      <td>2823</td>\n      <td>ohcv</td>\n      <td>six</td>\n      <td>152</td>\n      <td>mpfi</td>\n      <td>2.68</td>\n      <td>3.47</td>\n      <td>9.0</td>\n      <td>154</td>\n      <td>5000</td>\n      <td>19</td>\n      <td>26</td>\n      <td>16500.0</td>\n    </tr>\n    <tr>\n      <th>3</th>\n      <td>4</td>\n      <td>2</td>\n      <td>audi 100 ls</td>\n      <td>gas</td>\n      <td>std</td>\n      <td>four</td>\n      <td>sedan</td>\n      <td>fwd</td>\n      <td>front</td>\n      <td>99.8</td>\n      <td>176.6</td>\n      <td>66.2</td>\n      <td>54.3</td>\n      <td>2337</td>\n      <td>ohc</td>\n      <td>four</td>\n      <td>109</td>\n      <td>mpfi</td>\n      <td>3.19</td>\n      <td>3.40</td>\n      <td>10.0</td>\n      <td>102</td>\n      <td>5500</td>\n      <td>24</td>\n      <td>30</td>\n      <td>13950.0</td>\n    </tr>\n    <tr>\n      <th>4</th>\n      <td>5</td>\n      <td>2</td>\n      <td>audi 100ls</td>\n      <td>gas</td>\n      <td>std</td>\n      <td>four</td>\n      <td>sedan</td>\n      <td>4wd</td>\n      <td>front</td>\n      <td>99.4</td>\n      <td>176.6</td>\n      <td>66.4</td>\n      <td>54.3</td>\n      <td>2824</td>\n      <td>ohc</td>\n      <td>five</td>\n      <td>136</td>\n      <td>mpfi</td>\n      <td>3.19</td>\n      <td>3.40</td>\n      <td>8.0</td>\n      <td>115</td>\n      <td>5500</td>\n      <td>18</td>\n      <td>22</td>\n      <td>17450.0</td>\n    </tr>\n    <tr>\n      <th>...</th>\n      <td>...</td>\n      <td>...</td>\n      <td>...</td>\n      <td>...</td>\n      <td>...</td>\n      <td>...</td>\n      <td>...</td>\n      <td>...</td>\n      <td>...</td>\n      <td>...</td>\n      <td>...</td>\n      <td>...</td>\n      <td>...</td>\n      <td>...</td>\n      <td>...</td>\n      <td>...</td>\n      <td>...</td>\n      <td>...</td>\n      <td>...</td>\n      <td>...</td>\n      <td>...</td>\n      <td>...</td>\n      <td>...</td>\n      <td>...</td>\n      <td>...</td>\n      <td>...</td>\n    </tr>\n    <tr>\n      <th>200</th>\n      <td>201</td>\n      <td>-1</td>\n      <td>volvo 145e (sw)</td>\n      <td>gas</td>\n      <td>std</td>\n      <td>four</td>\n      <td>sedan</td>\n      <td>rwd</td>\n      <td>front</td>\n      <td>109.1</td>\n      <td>188.8</td>\n      <td>68.9</td>\n      <td>55.5</td>\n      <td>2952</td>\n      <td>ohc</td>\n      <td>four</td>\n      <td>141</td>\n      <td>mpfi</td>\n      <td>3.78</td>\n      <td>3.15</td>\n      <td>9.5</td>\n      <td>114</td>\n      <td>5400</td>\n      <td>23</td>\n      <td>28</td>\n      <td>16845.0</td>\n    </tr>\n    <tr>\n      <th>201</th>\n      <td>202</td>\n      <td>-1</td>\n      <td>volvo 144ea</td>\n      <td>gas</td>\n      <td>turbo</td>\n      <td>four</td>\n      <td>sedan</td>\n      <td>rwd</td>\n      <td>front</td>\n      <td>109.1</td>\n      <td>188.8</td>\n      <td>68.8</td>\n      <td>55.5</td>\n      <td>3049</td>\n      <td>ohc</td>\n      <td>four</td>\n      <td>141</td>\n      <td>mpfi</td>\n      <td>3.78</td>\n      <td>3.15</td>\n      <td>8.7</td>\n      <td>160</td>\n      <td>5300</td>\n      <td>19</td>\n      <td>25</td>\n      <td>19045.0</td>\n    </tr>\n    <tr>\n      <th>202</th>\n      <td>203</td>\n      <td>-1</td>\n      <td>volvo 244dl</td>\n      <td>gas</td>\n      <td>std</td>\n      <td>four</td>\n      <td>sedan</td>\n      <td>rwd</td>\n      <td>front</td>\n      <td>109.1</td>\n      <td>188.8</td>\n      <td>68.9</td>\n      <td>55.5</td>\n      <td>3012</td>\n      <td>ohcv</td>\n      <td>six</td>\n      <td>173</td>\n      <td>mpfi</td>\n      <td>3.58</td>\n      <td>2.87</td>\n      <td>8.8</td>\n      <td>134</td>\n      <td>5500</td>\n      <td>18</td>\n      <td>23</td>\n      <td>21485.0</td>\n    </tr>\n    <tr>\n      <th>203</th>\n      <td>204</td>\n      <td>-1</td>\n      <td>volvo 246</td>\n      <td>diesel</td>\n      <td>turbo</td>\n      <td>four</td>\n      <td>sedan</td>\n      <td>rwd</td>\n      <td>front</td>\n      <td>109.1</td>\n      <td>188.8</td>\n      <td>68.9</td>\n      <td>55.5</td>\n      <td>3217</td>\n      <td>ohc</td>\n      <td>six</td>\n      <td>145</td>\n      <td>idi</td>\n      <td>3.01</td>\n      <td>3.40</td>\n      <td>23.0</td>\n      <td>106</td>\n      <td>4800</td>\n      <td>26</td>\n      <td>27</td>\n      <td>22470.0</td>\n    </tr>\n    <tr>\n      <th>204</th>\n      <td>205</td>\n      <td>-1</td>\n      <td>volvo 264gl</td>\n      <td>gas</td>\n      <td>turbo</td>\n      <td>four</td>\n      <td>sedan</td>\n      <td>rwd</td>\n      <td>front</td>\n      <td>109.1</td>\n      <td>188.8</td>\n      <td>68.9</td>\n      <td>55.5</td>\n      <td>3062</td>\n      <td>ohc</td>\n      <td>four</td>\n      <td>141</td>\n      <td>mpfi</td>\n      <td>3.78</td>\n      <td>3.15</td>\n      <td>9.5</td>\n      <td>114</td>\n      <td>5400</td>\n      <td>19</td>\n      <td>25</td>\n      <td>22625.0</td>\n    </tr>\n  </tbody>\n</table>\n<p>205 rows × 26 columns</p>\n</div>"
     },
     "metadata": {},
     "execution_count": 3
    }
   ],
   "source": [
    "pd.options.display.max_columns = None\n",
    "car_data"
   ]
  },
  {
   "source": [
    "# Pre Processing"
   ],
   "cell_type": "markdown",
   "metadata": {}
  },
  {
   "cell_type": "code",
   "execution_count": 4,
   "metadata": {},
   "outputs": [],
   "source": [
    "# ignoring car id\n",
    "car_data.drop('car_ID', axis=1, inplace=True)"
   ]
  },
  {
   "source": [
    "## Categorical -> Numerical"
   ],
   "cell_type": "markdown",
   "metadata": {}
  },
  {
   "cell_type": "code",
   "execution_count": 5,
   "metadata": {},
   "outputs": [
    {
     "output_type": "execute_result",
     "data": {
      "text/plain": [
       "     symboling                   CarName fueltype aspiration doornumber  \\\n",
       "0            3        alfa-romero giulia      gas        std        two   \n",
       "1            3       alfa-romero stelvio      gas        std        two   \n",
       "2            1  alfa-romero Quadrifoglio      gas        std        two   \n",
       "3            2               audi 100 ls      gas        std       four   \n",
       "4            2                audi 100ls      gas        std       four   \n",
       "..         ...                       ...      ...        ...        ...   \n",
       "200         -1           volvo 145e (sw)      gas        std       four   \n",
       "201         -1               volvo 144ea      gas      turbo       four   \n",
       "202         -1               volvo 244dl      gas        std       four   \n",
       "203         -1                 volvo 246   diesel      turbo       four   \n",
       "204         -1               volvo 264gl      gas      turbo       four   \n",
       "\n",
       "         carbody drivewheel enginelocation  wheelbase  carlength  carwidth  \\\n",
       "0    convertible        rwd          front       88.6      168.8      64.1   \n",
       "1    convertible        rwd          front       88.6      168.8      64.1   \n",
       "2      hatchback        rwd          front       94.5      171.2      65.5   \n",
       "3          sedan        fwd          front       99.8      176.6      66.2   \n",
       "4          sedan        4wd          front       99.4      176.6      66.4   \n",
       "..           ...        ...            ...        ...        ...       ...   \n",
       "200        sedan        rwd          front      109.1      188.8      68.9   \n",
       "201        sedan        rwd          front      109.1      188.8      68.8   \n",
       "202        sedan        rwd          front      109.1      188.8      68.9   \n",
       "203        sedan        rwd          front      109.1      188.8      68.9   \n",
       "204        sedan        rwd          front      109.1      188.8      68.9   \n",
       "\n",
       "     carheight  curbweight enginetype cylindernumber  enginesize fuelsystem  \\\n",
       "0         48.8        2548       dohc           four         130       mpfi   \n",
       "1         48.8        2548       dohc           four         130       mpfi   \n",
       "2         52.4        2823       ohcv            six         152       mpfi   \n",
       "3         54.3        2337        ohc           four         109       mpfi   \n",
       "4         54.3        2824        ohc           five         136       mpfi   \n",
       "..         ...         ...        ...            ...         ...        ...   \n",
       "200       55.5        2952        ohc           four         141       mpfi   \n",
       "201       55.5        3049        ohc           four         141       mpfi   \n",
       "202       55.5        3012       ohcv            six         173       mpfi   \n",
       "203       55.5        3217        ohc            six         145        idi   \n",
       "204       55.5        3062        ohc           four         141       mpfi   \n",
       "\n",
       "     boreratio  stroke  compressionratio  horsepower  peakrpm  citympg  \\\n",
       "0         3.47    2.68               9.0         111     5000       21   \n",
       "1         3.47    2.68               9.0         111     5000       21   \n",
       "2         2.68    3.47               9.0         154     5000       19   \n",
       "3         3.19    3.40              10.0         102     5500       24   \n",
       "4         3.19    3.40               8.0         115     5500       18   \n",
       "..         ...     ...               ...         ...      ...      ...   \n",
       "200       3.78    3.15               9.5         114     5400       23   \n",
       "201       3.78    3.15               8.7         160     5300       19   \n",
       "202       3.58    2.87               8.8         134     5500       18   \n",
       "203       3.01    3.40              23.0         106     4800       26   \n",
       "204       3.78    3.15               9.5         114     5400       19   \n",
       "\n",
       "     highwaympg    price  \n",
       "0            27  13495.0  \n",
       "1            27  16500.0  \n",
       "2            26  16500.0  \n",
       "3            30  13950.0  \n",
       "4            22  17450.0  \n",
       "..          ...      ...  \n",
       "200          28  16845.0  \n",
       "201          25  19045.0  \n",
       "202          23  21485.0  \n",
       "203          27  22470.0  \n",
       "204          25  22625.0  \n",
       "\n",
       "[205 rows x 25 columns]"
      ],
      "text/html": "<div>\n<style scoped>\n    .dataframe tbody tr th:only-of-type {\n        vertical-align: middle;\n    }\n\n    .dataframe tbody tr th {\n        vertical-align: top;\n    }\n\n    .dataframe thead th {\n        text-align: right;\n    }\n</style>\n<table border=\"1\" class=\"dataframe\">\n  <thead>\n    <tr style=\"text-align: right;\">\n      <th></th>\n      <th>symboling</th>\n      <th>CarName</th>\n      <th>fueltype</th>\n      <th>aspiration</th>\n      <th>doornumber</th>\n      <th>carbody</th>\n      <th>drivewheel</th>\n      <th>enginelocation</th>\n      <th>wheelbase</th>\n      <th>carlength</th>\n      <th>carwidth</th>\n      <th>carheight</th>\n      <th>curbweight</th>\n      <th>enginetype</th>\n      <th>cylindernumber</th>\n      <th>enginesize</th>\n      <th>fuelsystem</th>\n      <th>boreratio</th>\n      <th>stroke</th>\n      <th>compressionratio</th>\n      <th>horsepower</th>\n      <th>peakrpm</th>\n      <th>citympg</th>\n      <th>highwaympg</th>\n      <th>price</th>\n    </tr>\n  </thead>\n  <tbody>\n    <tr>\n      <th>0</th>\n      <td>3</td>\n      <td>alfa-romero giulia</td>\n      <td>gas</td>\n      <td>std</td>\n      <td>two</td>\n      <td>convertible</td>\n      <td>rwd</td>\n      <td>front</td>\n      <td>88.6</td>\n      <td>168.8</td>\n      <td>64.1</td>\n      <td>48.8</td>\n      <td>2548</td>\n      <td>dohc</td>\n      <td>four</td>\n      <td>130</td>\n      <td>mpfi</td>\n      <td>3.47</td>\n      <td>2.68</td>\n      <td>9.0</td>\n      <td>111</td>\n      <td>5000</td>\n      <td>21</td>\n      <td>27</td>\n      <td>13495.0</td>\n    </tr>\n    <tr>\n      <th>1</th>\n      <td>3</td>\n      <td>alfa-romero stelvio</td>\n      <td>gas</td>\n      <td>std</td>\n      <td>two</td>\n      <td>convertible</td>\n      <td>rwd</td>\n      <td>front</td>\n      <td>88.6</td>\n      <td>168.8</td>\n      <td>64.1</td>\n      <td>48.8</td>\n      <td>2548</td>\n      <td>dohc</td>\n      <td>four</td>\n      <td>130</td>\n      <td>mpfi</td>\n      <td>3.47</td>\n      <td>2.68</td>\n      <td>9.0</td>\n      <td>111</td>\n      <td>5000</td>\n      <td>21</td>\n      <td>27</td>\n      <td>16500.0</td>\n    </tr>\n    <tr>\n      <th>2</th>\n      <td>1</td>\n      <td>alfa-romero Quadrifoglio</td>\n      <td>gas</td>\n      <td>std</td>\n      <td>two</td>\n      <td>hatchback</td>\n      <td>rwd</td>\n      <td>front</td>\n      <td>94.5</td>\n      <td>171.2</td>\n      <td>65.5</td>\n      <td>52.4</td>\n      <td>2823</td>\n      <td>ohcv</td>\n      <td>six</td>\n      <td>152</td>\n      <td>mpfi</td>\n      <td>2.68</td>\n      <td>3.47</td>\n      <td>9.0</td>\n      <td>154</td>\n      <td>5000</td>\n      <td>19</td>\n      <td>26</td>\n      <td>16500.0</td>\n    </tr>\n    <tr>\n      <th>3</th>\n      <td>2</td>\n      <td>audi 100 ls</td>\n      <td>gas</td>\n      <td>std</td>\n      <td>four</td>\n      <td>sedan</td>\n      <td>fwd</td>\n      <td>front</td>\n      <td>99.8</td>\n      <td>176.6</td>\n      <td>66.2</td>\n      <td>54.3</td>\n      <td>2337</td>\n      <td>ohc</td>\n      <td>four</td>\n      <td>109</td>\n      <td>mpfi</td>\n      <td>3.19</td>\n      <td>3.40</td>\n      <td>10.0</td>\n      <td>102</td>\n      <td>5500</td>\n      <td>24</td>\n      <td>30</td>\n      <td>13950.0</td>\n    </tr>\n    <tr>\n      <th>4</th>\n      <td>2</td>\n      <td>audi 100ls</td>\n      <td>gas</td>\n      <td>std</td>\n      <td>four</td>\n      <td>sedan</td>\n      <td>4wd</td>\n      <td>front</td>\n      <td>99.4</td>\n      <td>176.6</td>\n      <td>66.4</td>\n      <td>54.3</td>\n      <td>2824</td>\n      <td>ohc</td>\n      <td>five</td>\n      <td>136</td>\n      <td>mpfi</td>\n      <td>3.19</td>\n      <td>3.40</td>\n      <td>8.0</td>\n      <td>115</td>\n      <td>5500</td>\n      <td>18</td>\n      <td>22</td>\n      <td>17450.0</td>\n    </tr>\n    <tr>\n      <th>...</th>\n      <td>...</td>\n      <td>...</td>\n      <td>...</td>\n      <td>...</td>\n      <td>...</td>\n      <td>...</td>\n      <td>...</td>\n      <td>...</td>\n      <td>...</td>\n      <td>...</td>\n      <td>...</td>\n      <td>...</td>\n      <td>...</td>\n      <td>...</td>\n      <td>...</td>\n      <td>...</td>\n      <td>...</td>\n      <td>...</td>\n      <td>...</td>\n      <td>...</td>\n      <td>...</td>\n      <td>...</td>\n      <td>...</td>\n      <td>...</td>\n      <td>...</td>\n    </tr>\n    <tr>\n      <th>200</th>\n      <td>-1</td>\n      <td>volvo 145e (sw)</td>\n      <td>gas</td>\n      <td>std</td>\n      <td>four</td>\n      <td>sedan</td>\n      <td>rwd</td>\n      <td>front</td>\n      <td>109.1</td>\n      <td>188.8</td>\n      <td>68.9</td>\n      <td>55.5</td>\n      <td>2952</td>\n      <td>ohc</td>\n      <td>four</td>\n      <td>141</td>\n      <td>mpfi</td>\n      <td>3.78</td>\n      <td>3.15</td>\n      <td>9.5</td>\n      <td>114</td>\n      <td>5400</td>\n      <td>23</td>\n      <td>28</td>\n      <td>16845.0</td>\n    </tr>\n    <tr>\n      <th>201</th>\n      <td>-1</td>\n      <td>volvo 144ea</td>\n      <td>gas</td>\n      <td>turbo</td>\n      <td>four</td>\n      <td>sedan</td>\n      <td>rwd</td>\n      <td>front</td>\n      <td>109.1</td>\n      <td>188.8</td>\n      <td>68.8</td>\n      <td>55.5</td>\n      <td>3049</td>\n      <td>ohc</td>\n      <td>four</td>\n      <td>141</td>\n      <td>mpfi</td>\n      <td>3.78</td>\n      <td>3.15</td>\n      <td>8.7</td>\n      <td>160</td>\n      <td>5300</td>\n      <td>19</td>\n      <td>25</td>\n      <td>19045.0</td>\n    </tr>\n    <tr>\n      <th>202</th>\n      <td>-1</td>\n      <td>volvo 244dl</td>\n      <td>gas</td>\n      <td>std</td>\n      <td>four</td>\n      <td>sedan</td>\n      <td>rwd</td>\n      <td>front</td>\n      <td>109.1</td>\n      <td>188.8</td>\n      <td>68.9</td>\n      <td>55.5</td>\n      <td>3012</td>\n      <td>ohcv</td>\n      <td>six</td>\n      <td>173</td>\n      <td>mpfi</td>\n      <td>3.58</td>\n      <td>2.87</td>\n      <td>8.8</td>\n      <td>134</td>\n      <td>5500</td>\n      <td>18</td>\n      <td>23</td>\n      <td>21485.0</td>\n    </tr>\n    <tr>\n      <th>203</th>\n      <td>-1</td>\n      <td>volvo 246</td>\n      <td>diesel</td>\n      <td>turbo</td>\n      <td>four</td>\n      <td>sedan</td>\n      <td>rwd</td>\n      <td>front</td>\n      <td>109.1</td>\n      <td>188.8</td>\n      <td>68.9</td>\n      <td>55.5</td>\n      <td>3217</td>\n      <td>ohc</td>\n      <td>six</td>\n      <td>145</td>\n      <td>idi</td>\n      <td>3.01</td>\n      <td>3.40</td>\n      <td>23.0</td>\n      <td>106</td>\n      <td>4800</td>\n      <td>26</td>\n      <td>27</td>\n      <td>22470.0</td>\n    </tr>\n    <tr>\n      <th>204</th>\n      <td>-1</td>\n      <td>volvo 264gl</td>\n      <td>gas</td>\n      <td>turbo</td>\n      <td>four</td>\n      <td>sedan</td>\n      <td>rwd</td>\n      <td>front</td>\n      <td>109.1</td>\n      <td>188.8</td>\n      <td>68.9</td>\n      <td>55.5</td>\n      <td>3062</td>\n      <td>ohc</td>\n      <td>four</td>\n      <td>141</td>\n      <td>mpfi</td>\n      <td>3.78</td>\n      <td>3.15</td>\n      <td>9.5</td>\n      <td>114</td>\n      <td>5400</td>\n      <td>19</td>\n      <td>25</td>\n      <td>22625.0</td>\n    </tr>\n  </tbody>\n</table>\n<p>205 rows × 25 columns</p>\n</div>"
     },
     "metadata": {},
     "execution_count": 5
    }
   ],
   "source": [
    "car_data"
   ]
  },
  {
   "cell_type": "code",
   "execution_count": 6,
   "metadata": {},
   "outputs": [
    {
     "output_type": "stream",
     "name": "stdout",
     "text": [
      "<class 'pandas.core.frame.DataFrame'>\nRangeIndex: 205 entries, 0 to 204\nData columns (total 25 columns):\n #   Column            Non-Null Count  Dtype  \n---  ------            --------------  -----  \n 0   symboling         205 non-null    int64  \n 1   CarName           205 non-null    object \n 2   fueltype          205 non-null    object \n 3   aspiration        205 non-null    object \n 4   doornumber        205 non-null    object \n 5   carbody           205 non-null    object \n 6   drivewheel        205 non-null    object \n 7   enginelocation    205 non-null    object \n 8   wheelbase         205 non-null    float64\n 9   carlength         205 non-null    float64\n 10  carwidth          205 non-null    float64\n 11  carheight         205 non-null    float64\n 12  curbweight        205 non-null    int64  \n 13  enginetype        205 non-null    object \n 14  cylindernumber    205 non-null    object \n 15  enginesize        205 non-null    int64  \n 16  fuelsystem        205 non-null    object \n 17  boreratio         205 non-null    float64\n 18  stroke            205 non-null    float64\n 19  compressionratio  205 non-null    float64\n 20  horsepower        205 non-null    int64  \n 21  peakrpm           205 non-null    int64  \n 22  citympg           205 non-null    int64  \n 23  highwaympg        205 non-null    int64  \n 24  price             205 non-null    float64\ndtypes: float64(8), int64(7), object(10)\nmemory usage: 40.2+ KB\n"
     ]
    }
   ],
   "source": [
    "car_data.info()"
   ]
  },
  {
   "cell_type": "code",
   "execution_count": 7,
   "metadata": {},
   "outputs": [],
   "source": [
    "# get make of car, might be useful. After that, car name is not needed\n",
    "car_data['make'] = car_data['CarName'].apply(lambda x: x.split(' ')[0])\n",
    "car_data.drop('CarName', axis=1, inplace=True)\n"
   ]
  },
  {
   "cell_type": "code",
   "execution_count": 8,
   "metadata": {},
   "outputs": [],
   "source": [
    "# smake all object dtypes into categories, and encode\n",
    "for col_name in car_data:\n",
    "    if car_data[col_name].dtype == 'object':\n",
    "        car_data[col_name] = car_data[col_name].astype('category')\n",
    "        car_data[col_name] = car_data[col_name].cat.codes\n"
   ]
  },
  {
   "cell_type": "code",
   "execution_count": 9,
   "metadata": {},
   "outputs": [
    {
     "output_type": "execute_result",
     "data": {
      "text/plain": [
       "     symboling  fueltype  aspiration  doornumber  carbody  drivewheel  \\\n",
       "0            3         1           0           1        0           2   \n",
       "1            3         1           0           1        0           2   \n",
       "2            1         1           0           1        2           2   \n",
       "3            2         1           0           0        3           1   \n",
       "4            2         1           0           0        3           0   \n",
       "..         ...       ...         ...         ...      ...         ...   \n",
       "200         -1         1           0           0        3           2   \n",
       "201         -1         1           1           0        3           2   \n",
       "202         -1         1           0           0        3           2   \n",
       "203         -1         0           1           0        3           2   \n",
       "204         -1         1           1           0        3           2   \n",
       "\n",
       "     enginelocation  wheelbase  carlength  carwidth  carheight  curbweight  \\\n",
       "0                 0       88.6      168.8      64.1       48.8        2548   \n",
       "1                 0       88.6      168.8      64.1       48.8        2548   \n",
       "2                 0       94.5      171.2      65.5       52.4        2823   \n",
       "3                 0       99.8      176.6      66.2       54.3        2337   \n",
       "4                 0       99.4      176.6      66.4       54.3        2824   \n",
       "..              ...        ...        ...       ...        ...         ...   \n",
       "200               0      109.1      188.8      68.9       55.5        2952   \n",
       "201               0      109.1      188.8      68.8       55.5        3049   \n",
       "202               0      109.1      188.8      68.9       55.5        3012   \n",
       "203               0      109.1      188.8      68.9       55.5        3217   \n",
       "204               0      109.1      188.8      68.9       55.5        3062   \n",
       "\n",
       "     enginetype  cylindernumber  enginesize  fuelsystem  boreratio  stroke  \\\n",
       "0             0               2         130           5       3.47    2.68   \n",
       "1             0               2         130           5       3.47    2.68   \n",
       "2             5               3         152           5       2.68    3.47   \n",
       "3             3               2         109           5       3.19    3.40   \n",
       "4             3               1         136           5       3.19    3.40   \n",
       "..          ...             ...         ...         ...        ...     ...   \n",
       "200           3               2         141           5       3.78    3.15   \n",
       "201           3               2         141           5       3.78    3.15   \n",
       "202           5               3         173           5       3.58    2.87   \n",
       "203           3               3         145           3       3.01    3.40   \n",
       "204           3               2         141           5       3.78    3.15   \n",
       "\n",
       "     compressionratio  horsepower  peakrpm  citympg  highwaympg    price  make  \n",
       "0                 9.0         111     5000       21          27  13495.0     1  \n",
       "1                 9.0         111     5000       21          27  16500.0     1  \n",
       "2                 9.0         154     5000       19          26  16500.0     1  \n",
       "3                10.0         102     5500       24          30  13950.0     2  \n",
       "4                 8.0         115     5500       18          22  17450.0     2  \n",
       "..                ...         ...      ...      ...         ...      ...   ...  \n",
       "200               9.5         114     5400       23          28  16845.0    26  \n",
       "201               8.7         160     5300       19          25  19045.0    26  \n",
       "202               8.8         134     5500       18          23  21485.0    26  \n",
       "203              23.0         106     4800       26          27  22470.0    26  \n",
       "204               9.5         114     5400       19          25  22625.0    26  \n",
       "\n",
       "[205 rows x 25 columns]"
      ],
      "text/html": "<div>\n<style scoped>\n    .dataframe tbody tr th:only-of-type {\n        vertical-align: middle;\n    }\n\n    .dataframe tbody tr th {\n        vertical-align: top;\n    }\n\n    .dataframe thead th {\n        text-align: right;\n    }\n</style>\n<table border=\"1\" class=\"dataframe\">\n  <thead>\n    <tr style=\"text-align: right;\">\n      <th></th>\n      <th>symboling</th>\n      <th>fueltype</th>\n      <th>aspiration</th>\n      <th>doornumber</th>\n      <th>carbody</th>\n      <th>drivewheel</th>\n      <th>enginelocation</th>\n      <th>wheelbase</th>\n      <th>carlength</th>\n      <th>carwidth</th>\n      <th>carheight</th>\n      <th>curbweight</th>\n      <th>enginetype</th>\n      <th>cylindernumber</th>\n      <th>enginesize</th>\n      <th>fuelsystem</th>\n      <th>boreratio</th>\n      <th>stroke</th>\n      <th>compressionratio</th>\n      <th>horsepower</th>\n      <th>peakrpm</th>\n      <th>citympg</th>\n      <th>highwaympg</th>\n      <th>price</th>\n      <th>make</th>\n    </tr>\n  </thead>\n  <tbody>\n    <tr>\n      <th>0</th>\n      <td>3</td>\n      <td>1</td>\n      <td>0</td>\n      <td>1</td>\n      <td>0</td>\n      <td>2</td>\n      <td>0</td>\n      <td>88.6</td>\n      <td>168.8</td>\n      <td>64.1</td>\n      <td>48.8</td>\n      <td>2548</td>\n      <td>0</td>\n      <td>2</td>\n      <td>130</td>\n      <td>5</td>\n      <td>3.47</td>\n      <td>2.68</td>\n      <td>9.0</td>\n      <td>111</td>\n      <td>5000</td>\n      <td>21</td>\n      <td>27</td>\n      <td>13495.0</td>\n      <td>1</td>\n    </tr>\n    <tr>\n      <th>1</th>\n      <td>3</td>\n      <td>1</td>\n      <td>0</td>\n      <td>1</td>\n      <td>0</td>\n      <td>2</td>\n      <td>0</td>\n      <td>88.6</td>\n      <td>168.8</td>\n      <td>64.1</td>\n      <td>48.8</td>\n      <td>2548</td>\n      <td>0</td>\n      <td>2</td>\n      <td>130</td>\n      <td>5</td>\n      <td>3.47</td>\n      <td>2.68</td>\n      <td>9.0</td>\n      <td>111</td>\n      <td>5000</td>\n      <td>21</td>\n      <td>27</td>\n      <td>16500.0</td>\n      <td>1</td>\n    </tr>\n    <tr>\n      <th>2</th>\n      <td>1</td>\n      <td>1</td>\n      <td>0</td>\n      <td>1</td>\n      <td>2</td>\n      <td>2</td>\n      <td>0</td>\n      <td>94.5</td>\n      <td>171.2</td>\n      <td>65.5</td>\n      <td>52.4</td>\n      <td>2823</td>\n      <td>5</td>\n      <td>3</td>\n      <td>152</td>\n      <td>5</td>\n      <td>2.68</td>\n      <td>3.47</td>\n      <td>9.0</td>\n      <td>154</td>\n      <td>5000</td>\n      <td>19</td>\n      <td>26</td>\n      <td>16500.0</td>\n      <td>1</td>\n    </tr>\n    <tr>\n      <th>3</th>\n      <td>2</td>\n      <td>1</td>\n      <td>0</td>\n      <td>0</td>\n      <td>3</td>\n      <td>1</td>\n      <td>0</td>\n      <td>99.8</td>\n      <td>176.6</td>\n      <td>66.2</td>\n      <td>54.3</td>\n      <td>2337</td>\n      <td>3</td>\n      <td>2</td>\n      <td>109</td>\n      <td>5</td>\n      <td>3.19</td>\n      <td>3.40</td>\n      <td>10.0</td>\n      <td>102</td>\n      <td>5500</td>\n      <td>24</td>\n      <td>30</td>\n      <td>13950.0</td>\n      <td>2</td>\n    </tr>\n    <tr>\n      <th>4</th>\n      <td>2</td>\n      <td>1</td>\n      <td>0</td>\n      <td>0</td>\n      <td>3</td>\n      <td>0</td>\n      <td>0</td>\n      <td>99.4</td>\n      <td>176.6</td>\n      <td>66.4</td>\n      <td>54.3</td>\n      <td>2824</td>\n      <td>3</td>\n      <td>1</td>\n      <td>136</td>\n      <td>5</td>\n      <td>3.19</td>\n      <td>3.40</td>\n      <td>8.0</td>\n      <td>115</td>\n      <td>5500</td>\n      <td>18</td>\n      <td>22</td>\n      <td>17450.0</td>\n      <td>2</td>\n    </tr>\n    <tr>\n      <th>...</th>\n      <td>...</td>\n      <td>...</td>\n      <td>...</td>\n      <td>...</td>\n      <td>...</td>\n      <td>...</td>\n      <td>...</td>\n      <td>...</td>\n      <td>...</td>\n      <td>...</td>\n      <td>...</td>\n      <td>...</td>\n      <td>...</td>\n      <td>...</td>\n      <td>...</td>\n      <td>...</td>\n      <td>...</td>\n      <td>...</td>\n      <td>...</td>\n      <td>...</td>\n      <td>...</td>\n      <td>...</td>\n      <td>...</td>\n      <td>...</td>\n      <td>...</td>\n    </tr>\n    <tr>\n      <th>200</th>\n      <td>-1</td>\n      <td>1</td>\n      <td>0</td>\n      <td>0</td>\n      <td>3</td>\n      <td>2</td>\n      <td>0</td>\n      <td>109.1</td>\n      <td>188.8</td>\n      <td>68.9</td>\n      <td>55.5</td>\n      <td>2952</td>\n      <td>3</td>\n      <td>2</td>\n      <td>141</td>\n      <td>5</td>\n      <td>3.78</td>\n      <td>3.15</td>\n      <td>9.5</td>\n      <td>114</td>\n      <td>5400</td>\n      <td>23</td>\n      <td>28</td>\n      <td>16845.0</td>\n      <td>26</td>\n    </tr>\n    <tr>\n      <th>201</th>\n      <td>-1</td>\n      <td>1</td>\n      <td>1</td>\n      <td>0</td>\n      <td>3</td>\n      <td>2</td>\n      <td>0</td>\n      <td>109.1</td>\n      <td>188.8</td>\n      <td>68.8</td>\n      <td>55.5</td>\n      <td>3049</td>\n      <td>3</td>\n      <td>2</td>\n      <td>141</td>\n      <td>5</td>\n      <td>3.78</td>\n      <td>3.15</td>\n      <td>8.7</td>\n      <td>160</td>\n      <td>5300</td>\n      <td>19</td>\n      <td>25</td>\n      <td>19045.0</td>\n      <td>26</td>\n    </tr>\n    <tr>\n      <th>202</th>\n      <td>-1</td>\n      <td>1</td>\n      <td>0</td>\n      <td>0</td>\n      <td>3</td>\n      <td>2</td>\n      <td>0</td>\n      <td>109.1</td>\n      <td>188.8</td>\n      <td>68.9</td>\n      <td>55.5</td>\n      <td>3012</td>\n      <td>5</td>\n      <td>3</td>\n      <td>173</td>\n      <td>5</td>\n      <td>3.58</td>\n      <td>2.87</td>\n      <td>8.8</td>\n      <td>134</td>\n      <td>5500</td>\n      <td>18</td>\n      <td>23</td>\n      <td>21485.0</td>\n      <td>26</td>\n    </tr>\n    <tr>\n      <th>203</th>\n      <td>-1</td>\n      <td>0</td>\n      <td>1</td>\n      <td>0</td>\n      <td>3</td>\n      <td>2</td>\n      <td>0</td>\n      <td>109.1</td>\n      <td>188.8</td>\n      <td>68.9</td>\n      <td>55.5</td>\n      <td>3217</td>\n      <td>3</td>\n      <td>3</td>\n      <td>145</td>\n      <td>3</td>\n      <td>3.01</td>\n      <td>3.40</td>\n      <td>23.0</td>\n      <td>106</td>\n      <td>4800</td>\n      <td>26</td>\n      <td>27</td>\n      <td>22470.0</td>\n      <td>26</td>\n    </tr>\n    <tr>\n      <th>204</th>\n      <td>-1</td>\n      <td>1</td>\n      <td>1</td>\n      <td>0</td>\n      <td>3</td>\n      <td>2</td>\n      <td>0</td>\n      <td>109.1</td>\n      <td>188.8</td>\n      <td>68.9</td>\n      <td>55.5</td>\n      <td>3062</td>\n      <td>3</td>\n      <td>2</td>\n      <td>141</td>\n      <td>5</td>\n      <td>3.78</td>\n      <td>3.15</td>\n      <td>9.5</td>\n      <td>114</td>\n      <td>5400</td>\n      <td>19</td>\n      <td>25</td>\n      <td>22625.0</td>\n      <td>26</td>\n    </tr>\n  </tbody>\n</table>\n<p>205 rows × 25 columns</p>\n</div>"
     },
     "metadata": {},
     "execution_count": 9
    }
   ],
   "source": [
    "car_data"
   ]
  },
  {
   "source": [
    "# Training/Test Split"
   ],
   "cell_type": "markdown",
   "metadata": {}
  },
  {
   "source": [
    "Now that categorical data has been encoded to numerical data, we can split the data set into a feature set and a target set (target set contains prices).\n",
    "\n",
    "After this, we need to further split the data into a training set (to train our models) and a testing test (to test our models)"
   ],
   "cell_type": "markdown",
   "metadata": {}
  },
  {
   "cell_type": "code",
   "execution_count": 10,
   "metadata": {},
   "outputs": [],
   "source": [
    "price_df = car_data['price']\n",
    "feature_df = car_data.drop('price', axis=1)"
   ]
  },
  {
   "cell_type": "code",
   "execution_count": 11,
   "metadata": {},
   "outputs": [],
   "source": [
    "features_np = feature_df.to_numpy(dtype='float32')\n",
    "targets_np = price_df.to_numpy(dtype='float32')"
   ]
  },
  {
   "cell_type": "code",
   "execution_count": 12,
   "metadata": {},
   "outputs": [
    {
     "output_type": "execute_result",
     "data": {
      "text/plain": [
       "[tensor([[ 1.,  1.,  0.,  ..., 31., 38., 22.],\n",
       "         [ 2.,  1.,  0.,  ..., 24., 29.,  8.],\n",
       "         [ 2.,  1.,  0.,  ..., 37., 41., 13.],\n",
       "         ...,\n",
       "         [ 3.,  1.,  0.,  ..., 17., 25., 18.],\n",
       "         [ 0.,  1.,  0.,  ..., 19., 24., 15.],\n",
       "         [ 3.,  1.,  0.,  ..., 17., 25., 17.]]),\n",
       " tensor([[ 6338.0000],\n",
       "         [11048.0000],\n",
       "         [ 5389.0000],\n",
       "         [13499.0000],\n",
       "         [ 6095.0000],\n",
       "         [ 7499.0000],\n",
       "         [13495.0000],\n",
       "         [ 8921.0000],\n",
       "         [10198.0000],\n",
       "         [ 6692.0000],\n",
       "         [ 6479.0000],\n",
       "         [30760.0000],\n",
       "         [35056.0000],\n",
       "         [ 9959.0000],\n",
       "         [ 8778.0000],\n",
       "         [ 8189.0000],\n",
       "         [ 6695.0000],\n",
       "         [12764.0000],\n",
       "         [14399.0000],\n",
       "         [13950.0000],\n",
       "         [ 7053.0000],\n",
       "         [ 6229.0000],\n",
       "         [12964.0000],\n",
       "         [ 6855.0000],\n",
       "         [24565.0000],\n",
       "         [ 9279.0000],\n",
       "         [ 7395.0000],\n",
       "         [ 6377.0000],\n",
       "         [ 6849.0000],\n",
       "         [10945.0000],\n",
       "         [ 6989.0000],\n",
       "         [ 7738.0000],\n",
       "         [ 6692.0000],\n",
       "         [ 6649.0000],\n",
       "         [22018.0000],\n",
       "         [ 5195.0000],\n",
       "         [10595.0000],\n",
       "         [ 5572.0000],\n",
       "         [ 8916.5000],\n",
       "         [15645.0000],\n",
       "         [ 7775.0000],\n",
       "         [18150.0000],\n",
       "         [34184.0000],\n",
       "         [ 7295.0000],\n",
       "         [17075.0000],\n",
       "         [ 8558.0000],\n",
       "         [ 6229.0000],\n",
       "         [18399.0000],\n",
       "         [ 7295.0000],\n",
       "         [11845.0000],\n",
       "         [10795.0000],\n",
       "         [ 7299.0000],\n",
       "         [11259.0000],\n",
       "         [13860.0000],\n",
       "         [ 6785.0000],\n",
       "         [ 7198.0000],\n",
       "         [ 6488.0000],\n",
       "         [ 6295.0000],\n",
       "         [12629.0000],\n",
       "         [16695.0000],\n",
       "         [12440.0000],\n",
       "         [ 5499.0000],\n",
       "         [ 7957.0000],\n",
       "         [ 9895.0000],\n",
       "         [12170.0000],\n",
       "         [ 7463.0000],\n",
       "         [ 7129.0000],\n",
       "         [ 8921.0000],\n",
       "         [ 8499.0000],\n",
       "         [ 7603.0000],\n",
       "         [ 6575.0000],\n",
       "         [41315.0000],\n",
       "         [31600.0000],\n",
       "         [25552.0000],\n",
       "         [ 8495.0000],\n",
       "         [16900.0000],\n",
       "         [ 9258.0000],\n",
       "         [ 5348.0000],\n",
       "         [23875.0000],\n",
       "         [10245.0000],\n",
       "         [ 6938.0000],\n",
       "         [ 5151.0000],\n",
       "         [ 8845.0000],\n",
       "         [11850.0000],\n",
       "         [ 7898.0000],\n",
       "         [11694.0000],\n",
       "         [ 7099.0000],\n",
       "         [ 6529.0000],\n",
       "         [32250.0000],\n",
       "         [ 7349.0000],\n",
       "         [12945.0000],\n",
       "         [45400.0000],\n",
       "         [31400.5000],\n",
       "         [ 8845.0000],\n",
       "         [16925.0000],\n",
       "         [ 8013.0000],\n",
       "         [ 6189.0000],\n",
       "         [34028.0000],\n",
       "         [16430.0000],\n",
       "         [15040.0000],\n",
       "         [ 7788.0000],\n",
       "         [20970.0000],\n",
       "         [19699.0000],\n",
       "         [ 6669.0000],\n",
       "         [17450.0000],\n",
       "         [10345.0000],\n",
       "         [14489.0000],\n",
       "         [ 8058.0000],\n",
       "         [18150.0000],\n",
       "         [ 5399.0000],\n",
       "         [ 6918.0000],\n",
       "         [13499.0000],\n",
       "         [ 7609.0000],\n",
       "         [28176.0000],\n",
       "         [16500.0000],\n",
       "         [36000.0000],\n",
       "         [ 7898.0000],\n",
       "         [18280.0000],\n",
       "         [14869.0000],\n",
       "         [ 7609.0000],\n",
       "         [15510.0000],\n",
       "         [ 8949.0000],\n",
       "         [ 7895.0000],\n",
       "         [21105.0000],\n",
       "         [16630.0000],\n",
       "         [16503.0000],\n",
       "         [13645.0000],\n",
       "         [ 9279.0000],\n",
       "         [17859.1680],\n",
       "         [18620.0000],\n",
       "         [ 7126.0000],\n",
       "         [17950.0000],\n",
       "         [ 9295.0000],\n",
       "         [ 8916.5000],\n",
       "         [ 9095.0000],\n",
       "         [ 9549.0000],\n",
       "         [15580.0000],\n",
       "         [13200.0000],\n",
       "         [16500.0000],\n",
       "         [18920.0000],\n",
       "         [ 7957.0000],\n",
       "         [ 9233.0000],\n",
       "         [18344.0000],\n",
       "         [28248.0000],\n",
       "         [36880.0000],\n",
       "         [ 8249.0000],\n",
       "         [ 7799.0000],\n",
       "         [ 7689.0000],\n",
       "         [17199.0000],\n",
       "         [35550.0000],\n",
       "         [40960.0000],\n",
       "         [15250.0000],\n",
       "         [ 9960.0000],\n",
       "         [ 5572.0000],\n",
       "         [ 7999.0000],\n",
       "         [10295.0000],\n",
       "         [11245.0000],\n",
       "         [17710.0000],\n",
       "         [ 5118.0000],\n",
       "         [ 8358.0000],\n",
       "         [ 6795.0000],\n",
       "         [37028.0000],\n",
       "         [11900.0000],\n",
       "         [32528.0000]])]"
      ]
     },
     "metadata": {},
     "execution_count": 12
    }
   ],
   "source": [
    "from torch.utils.data import TensorDataset, DataLoader\n",
    "\n",
    "train_len = int(features_np.shape[0] * .8)\n",
    "test_len = features_np.shape[0] - train_len\n",
    "\n",
    "X_train = torch.from_numpy(features_np[0:train_len])\n",
    "X_test = torch.from_numpy(features_np[train_len: len(features_np) + 1])\n",
    "\n",
    "Y_train = torch.from_numpy(targets_np[0:train_len])\n",
    "Y_test = torch.from_numpy(targets_np[train_len: len(feature_df) + 1])\n",
    "\n",
    "Y_train = Y_train.view(Y_train.shape[0], 1)\n",
    "Y_test = Y_test.view(Y_test.shape[0], 1)\n",
    "\n",
    "train_ds = TensorDataset(X_train, Y_train)\n",
    "batch_size= X_train.shape[0]\n",
    "train_dl = DataLoader(train_ds, batch_size, shuffle=True)\n",
    "next(iter(train_dl))\n"
   ]
  },
  {
   "source": [
    "# Modelling"
   ],
   "cell_type": "markdown",
   "metadata": {}
  },
  {
   "cell_type": "code",
   "execution_count": 13,
   "metadata": {},
   "outputs": [],
   "source": [
    "import torch.nn as nn"
   ]
  },
  {
   "cell_type": "code",
   "execution_count": 14,
   "metadata": {},
   "outputs": [
    {
     "output_type": "stream",
     "name": "stdout",
     "text": [
      "Net(\n  (fc1): Linear(in_features=24, out_features=1, bias=True)\n)\n"
     ]
    }
   ],
   "source": [
    "# define the model\n",
    "class Net(nn.Module):\n",
    "    def __init__(self):\n",
    "        super(Net, self).__init__()\n",
    "        self.fc1 = nn.Linear(X_train.shape[1], 1)\n",
    "\n",
    "    def forward(self, x):\n",
    "        return self.fc1(x)\n",
    "\n",
    "\n",
    "model = Net()\n",
    "print(model)"
   ]
  },
  {
   "cell_type": "code",
   "execution_count": 15,
   "metadata": {},
   "outputs": [],
   "source": [
    "# Define optimizer (Adam is just algorithm for gradient descent, could use SGD as well)\n",
    "opt = torch.optim.Adam(model.parameters(), lr=0.01)"
   ]
  },
  {
   "cell_type": "code",
   "execution_count": 16,
   "metadata": {},
   "outputs": [],
   "source": [
    "# Import nn.functional\n",
    "import torch.nn.functional as F"
   ]
  },
  {
   "cell_type": "code",
   "execution_count": 17,
   "metadata": {},
   "outputs": [],
   "source": [
    "# Define loss function\n",
    "loss_fn = F.mse_loss"
   ]
  },
  {
   "cell_type": "code",
   "execution_count": 18,
   "metadata": {},
   "outputs": [
    {
     "output_type": "stream",
     "name": "stdout",
     "text": [
      "tensor(2.8676e+08, grad_fn=<MseLossBackward>)\n"
     ]
    }
   ],
   "source": [
    "loss = loss_fn(model(X_train), Y_train)\n",
    "print(loss)"
   ]
  },
  {
   "cell_type": "code",
   "execution_count": 19,
   "metadata": {},
   "outputs": [],
   "source": [
    "# Define a utility function to train the model\n",
    "def fit(num_epochs, model, loss_fn, opt):\n",
    "    epoch_loss = []\n",
    "    for epoch in range(num_epochs):\n",
    "        next(iter(train_dl))\n",
    "        for xb,yb in train_dl:\n",
    "            # Generate predictions\n",
    "            pred = model(xb)\n",
    "            loss = loss_fn(pred, yb)\n",
    "            epoch_loss.append(loss.data)\n",
    "            # Perform gradient descent\n",
    "            opt.zero_grad()\n",
    "            loss.backward()\n",
    "            opt.step()\n",
    "    print('Training loss: ', loss_fn(model(X_train), Y_train))"
   ]
  },
  {
   "cell_type": "code",
   "execution_count": 20,
   "metadata": {
    "tags": []
   },
   "outputs": [
    {
     "output_type": "stream",
     "name": "stdout",
     "text": [
      "Training loss:  tensor(18205114., grad_fn=<MseLossBackward>)\n"
     ]
    }
   ],
   "source": [
    "# Train the model for 5000 epochs\n",
    "fit(5000, model, loss_fn, opt)"
   ]
  },
  {
   "source": [
    "# Evalutation"
   ],
   "cell_type": "markdown",
   "metadata": {}
  },
  {
   "source": [
    "## Model Training"
   ],
   "cell_type": "markdown",
   "metadata": {}
  },
  {
   "cell_type": "code",
   "execution_count": 21,
   "metadata": {},
   "outputs": [
    {
     "output_type": "execute_result",
     "data": {
      "text/plain": [
       "[<matplotlib.lines.Line2D at 0x13bfdde50>]"
      ]
     },
     "metadata": {},
     "execution_count": 21
    },
    {
     "output_type": "display_data",
     "data": {
      "text/plain": "<Figure size 432x288 with 1 Axes>",
      "image/svg+xml": "<?xml version=\"1.0\" encoding=\"utf-8\" standalone=\"no\"?>\n<!DOCTYPE svg PUBLIC \"-//W3C//DTD SVG 1.1//EN\"\n  \"http://www.w3.org/Graphics/SVG/1.1/DTD/svg11.dtd\">\n<svg height=\"248.518125pt\" version=\"1.1\" viewBox=\"0 0 388.0125 248.518125\" width=\"388.0125pt\" xmlns=\"http://www.w3.org/2000/svg\" xmlns:xlink=\"http://www.w3.org/1999/xlink\">\n <metadata>\n  <rdf:RDF xmlns:cc=\"http://creativecommons.org/ns#\" xmlns:dc=\"http://purl.org/dc/elements/1.1/\" xmlns:rdf=\"http://www.w3.org/1999/02/22-rdf-syntax-ns#\">\n   <cc:Work>\n    <dc:type rdf:resource=\"http://purl.org/dc/dcmitype/StillImage\"/>\n    <dc:date>2021-04-09T22:33:43.261495</dc:date>\n    <dc:format>image/svg+xml</dc:format>\n    <dc:creator>\n     <cc:Agent>\n      <dc:title>Matplotlib v3.4.1, https://matplotlib.org/</dc:title>\n     </cc:Agent>\n    </dc:creator>\n   </cc:Work>\n  </rdf:RDF>\n </metadata>\n <defs>\n  <style type=\"text/css\">*{stroke-linecap:butt;stroke-linejoin:round;}</style>\n </defs>\n <g id=\"figure_1\">\n  <g id=\"patch_1\">\n   <path d=\"M 0 248.518125 \nL 388.0125 248.518125 \nL 388.0125 0 \nL 0 0 \nz\n\" style=\"fill:none;\"/>\n  </g>\n  <g id=\"axes_1\">\n   <g id=\"patch_2\">\n    <path d=\"M 46.0125 224.64 \nL 380.8125 224.64 \nL 380.8125 7.2 \nL 46.0125 7.2 \nz\n\" style=\"fill:#ffffff;\"/>\n   </g>\n   <g id=\"matplotlib.axis_1\">\n    <g id=\"xtick_1\">\n     <g id=\"line2d_1\">\n      <defs>\n       <path d=\"M 0 0 \nL 0 3.5 \n\" id=\"mdc20f56a97\" style=\"stroke:#000000;stroke-width:0.8;\"/>\n      </defs>\n      <g>\n       <use style=\"stroke:#000000;stroke-width:0.8;\" x=\"61.230682\" xlink:href=\"#mdc20f56a97\" y=\"224.64\"/>\n      </g>\n     </g>\n     <g id=\"text_1\">\n      <!-- 0 -->\n      <g transform=\"translate(58.049432 239.238437)scale(0.1 -0.1)\">\n       <defs>\n        <path d=\"M 2034 4250 \nQ 1547 4250 1301 3770 \nQ 1056 3291 1056 2328 \nQ 1056 1369 1301 889 \nQ 1547 409 2034 409 \nQ 2525 409 2770 889 \nQ 3016 1369 3016 2328 \nQ 3016 3291 2770 3770 \nQ 2525 4250 2034 4250 \nz\nM 2034 4750 \nQ 2819 4750 3233 4129 \nQ 3647 3509 3647 2328 \nQ 3647 1150 3233 529 \nQ 2819 -91 2034 -91 \nQ 1250 -91 836 529 \nQ 422 1150 422 2328 \nQ 422 3509 836 4129 \nQ 1250 4750 2034 4750 \nz\n\" id=\"DejaVuSans-30\" transform=\"scale(0.015625)\"/>\n       </defs>\n       <use xlink:href=\"#DejaVuSans-30\"/>\n      </g>\n     </g>\n    </g>\n    <g id=\"xtick_2\">\n     <g id=\"line2d_2\">\n      <g>\n       <use style=\"stroke:#000000;stroke-width:0.8;\" x=\"98.575913\" xlink:href=\"#mdc20f56a97\" y=\"224.64\"/>\n      </g>\n     </g>\n     <g id=\"text_2\">\n      <!-- 20 -->\n      <g transform=\"translate(92.213413 239.238437)scale(0.1 -0.1)\">\n       <defs>\n        <path d=\"M 1228 531 \nL 3431 531 \nL 3431 0 \nL 469 0 \nL 469 531 \nQ 828 903 1448 1529 \nQ 2069 2156 2228 2338 \nQ 2531 2678 2651 2914 \nQ 2772 3150 2772 3378 \nQ 2772 3750 2511 3984 \nQ 2250 4219 1831 4219 \nQ 1534 4219 1204 4116 \nQ 875 4013 500 3803 \nL 500 4441 \nQ 881 4594 1212 4672 \nQ 1544 4750 1819 4750 \nQ 2544 4750 2975 4387 \nQ 3406 4025 3406 3419 \nQ 3406 3131 3298 2873 \nQ 3191 2616 2906 2266 \nQ 2828 2175 2409 1742 \nQ 1991 1309 1228 531 \nz\n\" id=\"DejaVuSans-32\" transform=\"scale(0.015625)\"/>\n       </defs>\n       <use xlink:href=\"#DejaVuSans-32\"/>\n       <use x=\"63.623047\" xlink:href=\"#DejaVuSans-30\"/>\n      </g>\n     </g>\n    </g>\n    <g id=\"xtick_3\">\n     <g id=\"line2d_3\">\n      <g>\n       <use style=\"stroke:#000000;stroke-width:0.8;\" x=\"135.921145\" xlink:href=\"#mdc20f56a97\" y=\"224.64\"/>\n      </g>\n     </g>\n     <g id=\"text_3\">\n      <!-- 40 -->\n      <g transform=\"translate(129.558645 239.238437)scale(0.1 -0.1)\">\n       <defs>\n        <path d=\"M 2419 4116 \nL 825 1625 \nL 2419 1625 \nL 2419 4116 \nz\nM 2253 4666 \nL 3047 4666 \nL 3047 1625 \nL 3713 1625 \nL 3713 1100 \nL 3047 1100 \nL 3047 0 \nL 2419 0 \nL 2419 1100 \nL 313 1100 \nL 313 1709 \nL 2253 4666 \nz\n\" id=\"DejaVuSans-34\" transform=\"scale(0.015625)\"/>\n       </defs>\n       <use xlink:href=\"#DejaVuSans-34\"/>\n       <use x=\"63.623047\" xlink:href=\"#DejaVuSans-30\"/>\n      </g>\n     </g>\n    </g>\n    <g id=\"xtick_4\">\n     <g id=\"line2d_4\">\n      <g>\n       <use style=\"stroke:#000000;stroke-width:0.8;\" x=\"173.266376\" xlink:href=\"#mdc20f56a97\" y=\"224.64\"/>\n      </g>\n     </g>\n     <g id=\"text_4\">\n      <!-- 60 -->\n      <g transform=\"translate(166.903876 239.238437)scale(0.1 -0.1)\">\n       <defs>\n        <path d=\"M 2113 2584 \nQ 1688 2584 1439 2293 \nQ 1191 2003 1191 1497 \nQ 1191 994 1439 701 \nQ 1688 409 2113 409 \nQ 2538 409 2786 701 \nQ 3034 994 3034 1497 \nQ 3034 2003 2786 2293 \nQ 2538 2584 2113 2584 \nz\nM 3366 4563 \nL 3366 3988 \nQ 3128 4100 2886 4159 \nQ 2644 4219 2406 4219 \nQ 1781 4219 1451 3797 \nQ 1122 3375 1075 2522 \nQ 1259 2794 1537 2939 \nQ 1816 3084 2150 3084 \nQ 2853 3084 3261 2657 \nQ 3669 2231 3669 1497 \nQ 3669 778 3244 343 \nQ 2819 -91 2113 -91 \nQ 1303 -91 875 529 \nQ 447 1150 447 2328 \nQ 447 3434 972 4092 \nQ 1497 4750 2381 4750 \nQ 2619 4750 2861 4703 \nQ 3103 4656 3366 4563 \nz\n\" id=\"DejaVuSans-36\" transform=\"scale(0.015625)\"/>\n       </defs>\n       <use xlink:href=\"#DejaVuSans-36\"/>\n       <use x=\"63.623047\" xlink:href=\"#DejaVuSans-30\"/>\n      </g>\n     </g>\n    </g>\n    <g id=\"xtick_5\">\n     <g id=\"line2d_5\">\n      <g>\n       <use style=\"stroke:#000000;stroke-width:0.8;\" x=\"210.611608\" xlink:href=\"#mdc20f56a97\" y=\"224.64\"/>\n      </g>\n     </g>\n     <g id=\"text_5\">\n      <!-- 80 -->\n      <g transform=\"translate(204.249108 239.238437)scale(0.1 -0.1)\">\n       <defs>\n        <path d=\"M 2034 2216 \nQ 1584 2216 1326 1975 \nQ 1069 1734 1069 1313 \nQ 1069 891 1326 650 \nQ 1584 409 2034 409 \nQ 2484 409 2743 651 \nQ 3003 894 3003 1313 \nQ 3003 1734 2745 1975 \nQ 2488 2216 2034 2216 \nz\nM 1403 2484 \nQ 997 2584 770 2862 \nQ 544 3141 544 3541 \nQ 544 4100 942 4425 \nQ 1341 4750 2034 4750 \nQ 2731 4750 3128 4425 \nQ 3525 4100 3525 3541 \nQ 3525 3141 3298 2862 \nQ 3072 2584 2669 2484 \nQ 3125 2378 3379 2068 \nQ 3634 1759 3634 1313 \nQ 3634 634 3220 271 \nQ 2806 -91 2034 -91 \nQ 1263 -91 848 271 \nQ 434 634 434 1313 \nQ 434 1759 690 2068 \nQ 947 2378 1403 2484 \nz\nM 1172 3481 \nQ 1172 3119 1398 2916 \nQ 1625 2713 2034 2713 \nQ 2441 2713 2670 2916 \nQ 2900 3119 2900 3481 \nQ 2900 3844 2670 4047 \nQ 2441 4250 2034 4250 \nQ 1625 4250 1398 4047 \nQ 1172 3844 1172 3481 \nz\n\" id=\"DejaVuSans-38\" transform=\"scale(0.015625)\"/>\n       </defs>\n       <use xlink:href=\"#DejaVuSans-38\"/>\n       <use x=\"63.623047\" xlink:href=\"#DejaVuSans-30\"/>\n      </g>\n     </g>\n    </g>\n    <g id=\"xtick_6\">\n     <g id=\"line2d_6\">\n      <g>\n       <use style=\"stroke:#000000;stroke-width:0.8;\" x=\"247.956839\" xlink:href=\"#mdc20f56a97\" y=\"224.64\"/>\n      </g>\n     </g>\n     <g id=\"text_6\">\n      <!-- 100 -->\n      <g transform=\"translate(238.413089 239.238437)scale(0.1 -0.1)\">\n       <defs>\n        <path d=\"M 794 531 \nL 1825 531 \nL 1825 4091 \nL 703 3866 \nL 703 4441 \nL 1819 4666 \nL 2450 4666 \nL 2450 531 \nL 3481 531 \nL 3481 0 \nL 794 0 \nL 794 531 \nz\n\" id=\"DejaVuSans-31\" transform=\"scale(0.015625)\"/>\n       </defs>\n       <use xlink:href=\"#DejaVuSans-31\"/>\n       <use x=\"63.623047\" xlink:href=\"#DejaVuSans-30\"/>\n       <use x=\"127.246094\" xlink:href=\"#DejaVuSans-30\"/>\n      </g>\n     </g>\n    </g>\n    <g id=\"xtick_7\">\n     <g id=\"line2d_7\">\n      <g>\n       <use style=\"stroke:#000000;stroke-width:0.8;\" x=\"285.302071\" xlink:href=\"#mdc20f56a97\" y=\"224.64\"/>\n      </g>\n     </g>\n     <g id=\"text_7\">\n      <!-- 120 -->\n      <g transform=\"translate(275.758321 239.238437)scale(0.1 -0.1)\">\n       <use xlink:href=\"#DejaVuSans-31\"/>\n       <use x=\"63.623047\" xlink:href=\"#DejaVuSans-32\"/>\n       <use x=\"127.246094\" xlink:href=\"#DejaVuSans-30\"/>\n      </g>\n     </g>\n    </g>\n    <g id=\"xtick_8\">\n     <g id=\"line2d_8\">\n      <g>\n       <use style=\"stroke:#000000;stroke-width:0.8;\" x=\"322.647302\" xlink:href=\"#mdc20f56a97\" y=\"224.64\"/>\n      </g>\n     </g>\n     <g id=\"text_8\">\n      <!-- 140 -->\n      <g transform=\"translate(313.103552 239.238437)scale(0.1 -0.1)\">\n       <use xlink:href=\"#DejaVuSans-31\"/>\n       <use x=\"63.623047\" xlink:href=\"#DejaVuSans-34\"/>\n       <use x=\"127.246094\" xlink:href=\"#DejaVuSans-30\"/>\n      </g>\n     </g>\n    </g>\n    <g id=\"xtick_9\">\n     <g id=\"line2d_9\">\n      <g>\n       <use style=\"stroke:#000000;stroke-width:0.8;\" x=\"359.992533\" xlink:href=\"#mdc20f56a97\" y=\"224.64\"/>\n      </g>\n     </g>\n     <g id=\"text_9\">\n      <!-- 160 -->\n      <g transform=\"translate(350.448783 239.238437)scale(0.1 -0.1)\">\n       <use xlink:href=\"#DejaVuSans-31\"/>\n       <use x=\"63.623047\" xlink:href=\"#DejaVuSans-36\"/>\n       <use x=\"127.246094\" xlink:href=\"#DejaVuSans-30\"/>\n      </g>\n     </g>\n    </g>\n   </g>\n   <g id=\"matplotlib.axis_2\">\n    <g id=\"ytick_1\">\n     <g id=\"line2d_10\">\n      <defs>\n       <path d=\"M 0 0 \nL -3.5 0 \n\" id=\"mccb661ca38\" style=\"stroke:#000000;stroke-width:0.8;\"/>\n      </defs>\n      <g>\n       <use style=\"stroke:#000000;stroke-width:0.8;\" x=\"46.0125\" xlink:href=\"#mccb661ca38\" y=\"220.950486\"/>\n      </g>\n     </g>\n     <g id=\"text_10\">\n      <!-- 0 -->\n      <g transform=\"translate(32.65 224.749704)scale(0.1 -0.1)\">\n       <use xlink:href=\"#DejaVuSans-30\"/>\n      </g>\n     </g>\n    </g>\n    <g id=\"ytick_2\">\n     <g id=\"line2d_11\">\n      <g>\n       <use style=\"stroke:#000000;stroke-width:0.8;\" x=\"46.0125\" xlink:href=\"#mccb661ca38\" y=\"176.045893\"/>\n      </g>\n     </g>\n     <g id=\"text_11\">\n      <!-- 10000 -->\n      <g transform=\"translate(7.2 179.845112)scale(0.1 -0.1)\">\n       <use xlink:href=\"#DejaVuSans-31\"/>\n       <use x=\"63.623047\" xlink:href=\"#DejaVuSans-30\"/>\n       <use x=\"127.246094\" xlink:href=\"#DejaVuSans-30\"/>\n       <use x=\"190.869141\" xlink:href=\"#DejaVuSans-30\"/>\n       <use x=\"254.492188\" xlink:href=\"#DejaVuSans-30\"/>\n      </g>\n     </g>\n    </g>\n    <g id=\"ytick_3\">\n     <g id=\"line2d_12\">\n      <g>\n       <use style=\"stroke:#000000;stroke-width:0.8;\" x=\"46.0125\" xlink:href=\"#mccb661ca38\" y=\"131.141301\"/>\n      </g>\n     </g>\n     <g id=\"text_12\">\n      <!-- 20000 -->\n      <g transform=\"translate(7.2 134.94052)scale(0.1 -0.1)\">\n       <use xlink:href=\"#DejaVuSans-32\"/>\n       <use x=\"63.623047\" xlink:href=\"#DejaVuSans-30\"/>\n       <use x=\"127.246094\" xlink:href=\"#DejaVuSans-30\"/>\n       <use x=\"190.869141\" xlink:href=\"#DejaVuSans-30\"/>\n       <use x=\"254.492188\" xlink:href=\"#DejaVuSans-30\"/>\n      </g>\n     </g>\n    </g>\n    <g id=\"ytick_4\">\n     <g id=\"line2d_13\">\n      <g>\n       <use style=\"stroke:#000000;stroke-width:0.8;\" x=\"46.0125\" xlink:href=\"#mccb661ca38\" y=\"86.236709\"/>\n      </g>\n     </g>\n     <g id=\"text_13\">\n      <!-- 30000 -->\n      <g transform=\"translate(7.2 90.035927)scale(0.1 -0.1)\">\n       <defs>\n        <path d=\"M 2597 2516 \nQ 3050 2419 3304 2112 \nQ 3559 1806 3559 1356 \nQ 3559 666 3084 287 \nQ 2609 -91 1734 -91 \nQ 1441 -91 1130 -33 \nQ 819 25 488 141 \nL 488 750 \nQ 750 597 1062 519 \nQ 1375 441 1716 441 \nQ 2309 441 2620 675 \nQ 2931 909 2931 1356 \nQ 2931 1769 2642 2001 \nQ 2353 2234 1838 2234 \nL 1294 2234 \nL 1294 2753 \nL 1863 2753 \nQ 2328 2753 2575 2939 \nQ 2822 3125 2822 3475 \nQ 2822 3834 2567 4026 \nQ 2313 4219 1838 4219 \nQ 1578 4219 1281 4162 \nQ 984 4106 628 3988 \nL 628 4550 \nQ 988 4650 1302 4700 \nQ 1616 4750 1894 4750 \nQ 2613 4750 3031 4423 \nQ 3450 4097 3450 3541 \nQ 3450 3153 3228 2886 \nQ 3006 2619 2597 2516 \nz\n\" id=\"DejaVuSans-33\" transform=\"scale(0.015625)\"/>\n       </defs>\n       <use xlink:href=\"#DejaVuSans-33\"/>\n       <use x=\"63.623047\" xlink:href=\"#DejaVuSans-30\"/>\n       <use x=\"127.246094\" xlink:href=\"#DejaVuSans-30\"/>\n       <use x=\"190.869141\" xlink:href=\"#DejaVuSans-30\"/>\n       <use x=\"254.492188\" xlink:href=\"#DejaVuSans-30\"/>\n      </g>\n     </g>\n    </g>\n    <g id=\"ytick_5\">\n     <g id=\"line2d_14\">\n      <g>\n       <use style=\"stroke:#000000;stroke-width:0.8;\" x=\"46.0125\" xlink:href=\"#mccb661ca38\" y=\"41.332116\"/>\n      </g>\n     </g>\n     <g id=\"text_14\">\n      <!-- 40000 -->\n      <g transform=\"translate(7.2 45.131335)scale(0.1 -0.1)\">\n       <use xlink:href=\"#DejaVuSans-34\"/>\n       <use x=\"63.623047\" xlink:href=\"#DejaVuSans-30\"/>\n       <use x=\"127.246094\" xlink:href=\"#DejaVuSans-30\"/>\n       <use x=\"190.869141\" xlink:href=\"#DejaVuSans-30\"/>\n       <use x=\"254.492188\" xlink:href=\"#DejaVuSans-30\"/>\n      </g>\n     </g>\n    </g>\n   </g>\n   <g id=\"line2d_15\">\n    <path clip-path=\"url(#pdc2bf12c09)\" d=\"M 61.230682 153.698351 \nL 63.097943 153.698351 \nL 64.965205 136.652612 \nL 66.832467 171.031699 \nL 68.699728 147.194728 \nL 70.56699 159.808279 \nL 72.434251 147.911767 \nL 74.301513 143.89232 \nL 76.168774 135.295888 \nL 78.036036 133.712141 \nL 79.903298 171.307415 \nL 81.770559 171.636789 \nL 83.637821 138.228088 \nL 85.505082 136.281307 \nL 87.372344 125.219753 \nL 89.239605 116.328934 \nL 91.106867 110.600195 \nL 92.974129 106.066384 \nL 94.84139 214.756364 \nL 96.708652 195.94778 \nL 98.575913 194.998968 \nL 100.443175 196.770597 \nL 102.310436 195.874439 \nL 104.177698 179.860666 \nL 106.04496 192.57111 \nL 107.912221 191.849777 \nL 109.779483 191.849777 \nL 111.646744 177.595404 \nL 113.514006 161.17019 \nL 115.381267 138.256556 \nL 117.248529 200.106787 \nL 119.115791 200.990706 \nL 120.983052 200.694982 \nL 122.850314 196.373099 \nL 124.717575 195.773448 \nL 126.584837 194.376248 \nL 128.452098 194.010039 \nL 130.31936 180.637134 \nL 132.186622 178.650772 \nL 134.053883 178.438536 \nL 135.921145 175.840718 \nL 137.788406 169.405232 \nL 139.655668 173.767292 \nL 141.522929 168.482232 \nL 143.390191 196.470543 \nL 145.257453 195.380747 \nL 147.124714 152.183663 \nL 148.991976 75.978193 \nL 150.859237 75.978193 \nL 152.726499 64.812657 \nL 154.59376 190.886824 \nL 156.461022 191.263744 \nL 158.328284 191.21621 \nL 160.195545 190.035123 \nL 162.062807 189.84826 \nL 163.930068 177.170955 \nL 165.79733 177.170955 \nL 167.664591 176.983557 \nL 169.531853 167.334613 \nL 171.399115 165.857721 \nL 173.266376 165.311788 \nL 175.133638 165.857721 \nL 177.000899 165.311788 \nL 178.868161 167.479369 \nL 180.735422 164.646411 \nL 182.602684 149.635424 \nL 184.469946 150.975173 \nL 186.337207 108.316341 \nL 188.204469 99.692606 \nL 190.07173 108.467087 \nL 191.938992 99.044717 \nL 193.806253 92.595234 \nL 195.673515 92.892376 \nL 197.540777 73.357142 \nL 199.408038 79.923228 \nL 201.2753 133.951899 \nL 203.142561 195.877917 \nL 205.009823 194.00775 \nL 206.877084 191.759041 \nL 210.611608 168.763438 \nL 212.478869 168.914702 \nL 214.346131 138.213827 \nL 216.213392 134.915821 \nL 218.080654 134.728424 \nL 219.947916 168.033274 \nL 221.815177 166.534136 \nL 223.682439 168.031923 \nL 225.5497 168.147237 \nL 227.416962 191.426479 \nL 229.284223 189.172979 \nL 231.151485 192.297547 \nL 233.018747 191.662516 \nL 234.886008 188.569793 \nL 236.75327 191.060759 \nL 238.620531 188.031692 \nL 240.487793 190.425727 \nL 242.355054 188.082578 \nL 244.222316 188.541254 \nL 246.089578 171.120482 \nL 247.956839 172.048209 \nL 249.824101 127.54589 \nL 251.691362 120.19029 \nL 253.558624 129.379357 \nL 255.425885 126.854061 \nL 257.293147 119.326447 \nL 259.160409 124.783837 \nL 261.02767 141.831023 \nL 262.894932 127.542408 \nL 264.762193 134.424958 \nL 266.629455 118.224048 \nL 268.496716 139.968298 \nL 270.363978 125.481086 \nL 272.23124 132.489026 \nL 274.098501 116.162716 \nL 275.965763 139.769701 \nL 277.833024 125.481086 \nL 279.700286 136.149636 \nL 281.567547 196.594603 \nL 283.434809 181.161382 \nL 285.302071 193.969653 \nL 287.169332 193.38592 \nL 289.036594 185.012648 \nL 292.771117 139.089151 \nL 294.638378 146.208528 \nL 296.50564 137.790864 \nL 298.372902 137.930717 \nL 300.240163 136.178456 \nL 302.107425 104.636321 \nL 303.974686 160.286574 \nL 305.841948 163.979319 \nL 307.709209 156.572995 \nL 309.576471 155.510993 \nL 311.443733 154.692387 \nL 313.310994 153.149844 \nL 315.178256 147.012417 \nL 317.045517 145.87591 \nL 318.912779 185.241383 \nL 320.78004 175.795572 \nL 322.647302 171.465506 \nL 324.514564 179.133724 \nL 326.381825 173.232783 \nL 328.249087 172.372544 \nL 330.116348 168.349387 \nL 331.98361 160.326221 \nL 333.850871 172.939031 \nL 335.718133 168.003832 \nL 337.585395 167.44937 \nL 339.452656 154.56415 \nL 341.319918 189.18767 \nL 343.187179 186.621883 \nL 345.054441 187.673387 \nL 346.921702 178.274389 \nL 348.788964 177.13094 \nL 350.656226 146.398531 \nL 352.523487 183.746145 \nL 354.390749 182.58623 \nL 356.25801 175.041434 \nL 358.125272 176.362181 \nL 359.992533 185.009291 \nL 361.859795 181.615071 \nL 363.727057 181.04366 \nL 365.594318 179.723316 \nL 365.594318 179.723316 \n\" style=\"fill:none;stroke:#0000ff;stroke-linecap:square;stroke-width:1.5;\"/>\n   </g>\n   <g id=\"line2d_16\">\n    <path clip-path=\"url(#pdc2bf12c09)\" d=\"M 61.230682 160.351738 \nL 63.097943 146.857908 \nL 64.965205 146.857908 \nL 66.832467 158.308579 \nL 68.699728 142.591972 \nL 70.56699 152.470982 \nL 72.434251 141.424453 \nL 74.301513 135.990997 \nL 76.168774 113.740771 \nL 78.036036 140.75462 \nL 79.903298 147.17224 \nL 81.770559 144.949463 \nL 83.637821 126.785555 \nL 85.505082 126.179344 \nL 87.372344 110.642355 \nL 89.239605 82.82396 \nL 91.106867 35.427162 \nL 92.974129 55.342349 \nL 94.84139 197.82013 \nL 96.708652 192.683045 \nL 98.575913 191.425716 \nL 100.443175 195.929647 \nL 102.310436 192.314827 \nL 104.177698 185.219902 \nL 106.04496 192.979415 \nL 107.912221 190.900332 \nL 111.646744 182.521136 \nL 113.514006 180.891099 \nL 115.381267 162.736172 \nL 117.248529 191.8568 \nL 119.115791 190.168388 \nL 120.983052 196.706496 \nL 122.850314 191.632277 \nL 124.717575 188.938002 \nL 126.584837 188.192586 \nL 128.452098 188.192586 \nL 130.31936 185.49831 \nL 132.186622 180.109759 \nL 134.053883 181.232374 \nL 135.921145 174.721208 \nL 137.788406 162.821491 \nL 139.655668 174.496685 \nL 141.522929 190.48272 \nL 143.390191 180.911306 \nL 145.257453 180.911306 \nL 147.124714 171.339892 \nL 148.991976 76.133175 \nL 150.859237 61.31466 \nL 152.726499 59.293953 \nL 154.59376 197.62255 \nL 156.461022 193.581137 \nL 158.328284 190.437815 \nL 160.195545 190.886861 \nL 162.062807 187.74354 \nL 163.930068 171.802409 \nL 165.79733 167.760996 \nL 167.664591 159.678169 \nL 169.531853 150.697251 \nL 171.399115 181.232374 \nL 173.266376 182.804034 \nL 175.133638 173.37407 \nL 177.000899 174.945731 \nL 178.868161 172.475978 \nL 180.735422 170.455272 \nL 182.602684 138.864891 \nL 184.469946 138.577501 \nL 186.337207 106.210271 \nL 188.204469 94.103993 \nL 190.07173 94.427306 \nL 191.938992 79.051974 \nL 193.806253 67.448627 \nL 195.673515 63.532947 \nL 197.540777 37.021275 \nL 199.408038 17.083636 \nL 201.2753 146.844437 \nL 203.142561 196.751401 \nL 205.009823 193.159033 \nL 206.877084 191.003613 \nL 208.744346 186.423345 \nL 210.611608 176.230002 \nL 212.478869 182.786073 \nL 214.346131 164.240476 \nL 216.213392 154.181847 \nL 218.080654 155.888222 \nL 219.947916 189.566666 \nL 221.815177 184.178115 \nL 223.682439 179.283514 \nL 225.5497 179.283514 \nL 227.416962 196.25745 \nL 229.284223 189.072716 \nL 231.151485 191.093422 \nL 233.018747 190.19533 \nL 234.886008 187.950101 \nL 236.75327 188.174624 \nL 238.620531 185.929394 \nL 240.487793 187.276532 \nL 242.355054 185.031302 \nL 244.222316 183.908687 \nL 246.089578 180.765366 \nL 247.956839 178.07109 \nL 249.824101 160.333776 \nL 251.691362 156.292363 \nL 253.558624 160.333776 \nL 255.425885 143.719077 \nL 257.293147 132.492929 \nL 259.160409 138.330526 \nL 261.02767 167.514021 \nL 262.894932 161.676424 \nL 264.762193 165.089173 \nL 266.629455 158.712721 \nL 268.496716 150.989131 \nL 270.363978 145.061725 \nL 272.23124 145.982269 \nL 274.098501 144.275894 \nL 275.965763 146.274149 \nL 277.833024 140.346742 \nL 279.700286 139.448651 \nL 281.567547 195.929647 \nL 283.434809 185.219902 \nL 285.302071 192.979415 \nL 287.169332 190.900332 \nL 289.036594 186.782581 \nL 290.903855 180.891099 \nL 292.771117 163.634264 \nL 294.638378 122.079554 \nL 296.50564 74.884828 \nL 298.372902 68.149139 \nL 300.240163 54.677761 \nL 302.107425 79.94782 \nL 303.974686 179.211667 \nL 305.841948 176.517392 \nL 307.709209 167.738544 \nL 309.576471 166.301597 \nL 311.443733 153.413979 \nL 313.310994 151.303463 \nL 315.178256 139.448651 \nL 317.045517 137.338135 \nL 318.912779 197.968315 \nL 320.78004 189.279277 \nL 322.647302 186.809524 \nL 324.514564 188.951473 \nL 326.381825 186.037165 \nL 328.249087 176.225512 \nL 330.116348 179.490076 \nL 331.98361 170.392405 \nL 333.850871 187.438188 \nL 335.718133 175.156782 \nL 337.585395 184.968436 \nL 339.452656 168.439055 \nL 341.319918 196.93551 \nL 343.187179 192.489955 \nL 345.054441 191.816386 \nL 346.921702 189.885489 \nL 348.788964 185.484839 \nL 350.656226 181.533235 \nL 352.523487 189.795679 \nL 354.390749 188.62816 \nL 356.25801 185.484839 \nL 358.125272 185.978789 \nL 359.992533 186.203312 \nL 361.859795 183.419227 \nL 363.727057 179.377814 \nL 365.594318 184.766365 \nL 365.594318 184.766365 \n\" style=\"fill:none;stroke:#008000;stroke-linecap:square;stroke-width:1.5;\"/>\n   </g>\n   <g id=\"patch_3\">\n    <path d=\"M 46.0125 224.64 \nL 46.0125 7.2 \n\" style=\"fill:none;stroke:#000000;stroke-linecap:square;stroke-linejoin:miter;stroke-width:0.8;\"/>\n   </g>\n   <g id=\"patch_4\">\n    <path d=\"M 380.8125 224.64 \nL 380.8125 7.2 \n\" style=\"fill:none;stroke:#000000;stroke-linecap:square;stroke-linejoin:miter;stroke-width:0.8;\"/>\n   </g>\n   <g id=\"patch_5\">\n    <path d=\"M 46.0125 224.64 \nL 380.8125 224.64 \n\" style=\"fill:none;stroke:#000000;stroke-linecap:square;stroke-linejoin:miter;stroke-width:0.8;\"/>\n   </g>\n   <g id=\"patch_6\">\n    <path d=\"M 46.0125 7.2 \nL 380.8125 7.2 \n\" style=\"fill:none;stroke:#000000;stroke-linecap:square;stroke-linejoin:miter;stroke-width:0.8;\"/>\n   </g>\n  </g>\n </g>\n <defs>\n  <clipPath id=\"pdc2bf12c09\">\n   <rect height=\"217.44\" width=\"334.8\" x=\"46.0125\" y=\"7.2\"/>\n  </clipPath>\n </defs>\n</svg>\n",
      "image/png": "[encoded data removed]"
     },
     "metadata": {
      "needs_background": "light"
     }
    }
   ],
   "source": [
    "# Generate predictions after training\n",
    "preds = model(X_train)\n",
    "\n",
    "# blue line is model predictions\n",
    "plt.plot(preds.detach().numpy(), 'b')\n",
    "\n",
    "# green line is target value\n",
    "plt.plot(Y_train.detach().numpy(), 'g')"
   ]
  },
  {
   "cell_type": "code",
   "execution_count": 22,
   "metadata": {},
   "outputs": [
    {
     "output_type": "execute_result",
     "data": {
      "text/plain": [
       "tensor(18205114., grad_fn=<DivBackward0>)"
      ]
     },
     "metadata": {},
     "execution_count": 22
    }
   ],
   "source": [
    "loss = 0\n",
    "for prediction, target in zip(preds, Y_train):\n",
    "    loss += loss_fn(prediction, target)\n",
    "\n",
    "avg_loss = loss / preds.shape[0]\n",
    "avg_loss"
   ]
  },
  {
   "source": [
    "## Model Testing"
   ],
   "cell_type": "markdown",
   "metadata": {}
  },
  {
   "cell_type": "code",
   "execution_count": 23,
   "metadata": {},
   "outputs": [
    {
     "output_type": "execute_result",
     "data": {
      "text/plain": [
       "[<matplotlib.lines.Line2D at 0x13c103a60>]"
      ]
     },
     "metadata": {},
     "execution_count": 23
    },
    {
     "output_type": "display_data",
     "data": {
      "text/plain": "<Figure size 432x288 with 1 Axes>",
      "image/svg+xml": "<?xml version=\"1.0\" encoding=\"utf-8\" standalone=\"no\"?>\n<!DOCTYPE svg PUBLIC \"-//W3C//DTD SVG 1.1//EN\"\n  \"http://www.w3.org/Graphics/SVG/1.1/DTD/svg11.dtd\">\n<svg height=\"248.518125pt\" version=\"1.1\" viewBox=\"0 0 388.0125 248.518125\" width=\"388.0125pt\" xmlns=\"http://www.w3.org/2000/svg\" xmlns:xlink=\"http://www.w3.org/1999/xlink\">\n <metadata>\n  <rdf:RDF xmlns:cc=\"http://creativecommons.org/ns#\" xmlns:dc=\"http://purl.org/dc/elements/1.1/\" xmlns:rdf=\"http://www.w3.org/1999/02/22-rdf-syntax-ns#\">\n   <cc:Work>\n    <dc:type rdf:resource=\"http://purl.org/dc/dcmitype/StillImage\"/>\n    <dc:date>2021-04-09T22:33:47.518349</dc:date>\n    <dc:format>image/svg+xml</dc:format>\n    <dc:creator>\n     <cc:Agent>\n      <dc:title>Matplotlib v3.4.1, https://matplotlib.org/</dc:title>\n     </cc:Agent>\n    </dc:creator>\n   </cc:Work>\n  </rdf:RDF>\n </metadata>\n <defs>\n  <style type=\"text/css\">*{stroke-linecap:butt;stroke-linejoin:round;}</style>\n </defs>\n <g id=\"figure_1\">\n  <g id=\"patch_1\">\n   <path d=\"M 0 248.518125 \nL 388.0125 248.518125 \nL 388.0125 0 \nL 0 0 \nz\n\" style=\"fill:none;\"/>\n  </g>\n  <g id=\"axes_1\">\n   <g id=\"patch_2\">\n    <path d=\"M 46.0125 224.64 \nL 380.8125 224.64 \nL 380.8125 7.2 \nL 46.0125 7.2 \nz\n\" style=\"fill:#ffffff;\"/>\n   </g>\n   <g id=\"matplotlib.axis_1\">\n    <g id=\"xtick_1\">\n     <g id=\"line2d_1\">\n      <defs>\n       <path d=\"M 0 0 \nL 0 3.5 \n\" id=\"m179a2472d7\" style=\"stroke:#000000;stroke-width:0.8;\"/>\n      </defs>\n      <g>\n       <use style=\"stroke:#000000;stroke-width:0.8;\" x=\"61.230682\" xlink:href=\"#m179a2472d7\" y=\"224.64\"/>\n      </g>\n     </g>\n     <g id=\"text_1\">\n      <!-- 0 -->\n      <g transform=\"translate(58.049432 239.238437)scale(0.1 -0.1)\">\n       <defs>\n        <path d=\"M 2034 4250 \nQ 1547 4250 1301 3770 \nQ 1056 3291 1056 2328 \nQ 1056 1369 1301 889 \nQ 1547 409 2034 409 \nQ 2525 409 2770 889 \nQ 3016 1369 3016 2328 \nQ 3016 3291 2770 3770 \nQ 2525 4250 2034 4250 \nz\nM 2034 4750 \nQ 2819 4750 3233 4129 \nQ 3647 3509 3647 2328 \nQ 3647 1150 3233 529 \nQ 2819 -91 2034 -91 \nQ 1250 -91 836 529 \nQ 422 1150 422 2328 \nQ 422 3509 836 4129 \nQ 1250 4750 2034 4750 \nz\n\" id=\"DejaVuSans-30\" transform=\"scale(0.015625)\"/>\n       </defs>\n       <use xlink:href=\"#DejaVuSans-30\"/>\n      </g>\n     </g>\n    </g>\n    <g id=\"xtick_2\">\n     <g id=\"line2d_2\">\n      <g>\n       <use style=\"stroke:#000000;stroke-width:0.8;\" x=\"99.276136\" xlink:href=\"#m179a2472d7\" y=\"224.64\"/>\n      </g>\n     </g>\n     <g id=\"text_2\">\n      <!-- 5 -->\n      <g transform=\"translate(96.094886 239.238437)scale(0.1 -0.1)\">\n       <defs>\n        <path d=\"M 691 4666 \nL 3169 4666 \nL 3169 4134 \nL 1269 4134 \nL 1269 2991 \nQ 1406 3038 1543 3061 \nQ 1681 3084 1819 3084 \nQ 2600 3084 3056 2656 \nQ 3513 2228 3513 1497 \nQ 3513 744 3044 326 \nQ 2575 -91 1722 -91 \nQ 1428 -91 1123 -41 \nQ 819 9 494 109 \nL 494 744 \nQ 775 591 1075 516 \nQ 1375 441 1709 441 \nQ 2250 441 2565 725 \nQ 2881 1009 2881 1497 \nQ 2881 1984 2565 2268 \nQ 2250 2553 1709 2553 \nQ 1456 2553 1204 2497 \nQ 953 2441 691 2322 \nL 691 4666 \nz\n\" id=\"DejaVuSans-35\" transform=\"scale(0.015625)\"/>\n       </defs>\n       <use xlink:href=\"#DejaVuSans-35\"/>\n      </g>\n     </g>\n    </g>\n    <g id=\"xtick_3\">\n     <g id=\"line2d_3\">\n      <g>\n       <use style=\"stroke:#000000;stroke-width:0.8;\" x=\"137.321591\" xlink:href=\"#m179a2472d7\" y=\"224.64\"/>\n      </g>\n     </g>\n     <g id=\"text_3\">\n      <!-- 10 -->\n      <g transform=\"translate(130.959091 239.238437)scale(0.1 -0.1)\">\n       <defs>\n        <path d=\"M 794 531 \nL 1825 531 \nL 1825 4091 \nL 703 3866 \nL 703 4441 \nL 1819 4666 \nL 2450 4666 \nL 2450 531 \nL 3481 531 \nL 3481 0 \nL 794 0 \nL 794 531 \nz\n\" id=\"DejaVuSans-31\" transform=\"scale(0.015625)\"/>\n       </defs>\n       <use xlink:href=\"#DejaVuSans-31\"/>\n       <use x=\"63.623047\" xlink:href=\"#DejaVuSans-30\"/>\n      </g>\n     </g>\n    </g>\n    <g id=\"xtick_4\">\n     <g id=\"line2d_4\">\n      <g>\n       <use style=\"stroke:#000000;stroke-width:0.8;\" x=\"175.367045\" xlink:href=\"#m179a2472d7\" y=\"224.64\"/>\n      </g>\n     </g>\n     <g id=\"text_4\">\n      <!-- 15 -->\n      <g transform=\"translate(169.004545 239.238437)scale(0.1 -0.1)\">\n       <use xlink:href=\"#DejaVuSans-31\"/>\n       <use x=\"63.623047\" xlink:href=\"#DejaVuSans-35\"/>\n      </g>\n     </g>\n    </g>\n    <g id=\"xtick_5\">\n     <g id=\"line2d_5\">\n      <g>\n       <use style=\"stroke:#000000;stroke-width:0.8;\" x=\"213.4125\" xlink:href=\"#m179a2472d7\" y=\"224.64\"/>\n      </g>\n     </g>\n     <g id=\"text_5\">\n      <!-- 20 -->\n      <g transform=\"translate(207.05 239.238437)scale(0.1 -0.1)\">\n       <defs>\n        <path d=\"M 1228 531 \nL 3431 531 \nL 3431 0 \nL 469 0 \nL 469 531 \nQ 828 903 1448 1529 \nQ 2069 2156 2228 2338 \nQ 2531 2678 2651 2914 \nQ 2772 3150 2772 3378 \nQ 2772 3750 2511 3984 \nQ 2250 4219 1831 4219 \nQ 1534 4219 1204 4116 \nQ 875 4013 500 3803 \nL 500 4441 \nQ 881 4594 1212 4672 \nQ 1544 4750 1819 4750 \nQ 2544 4750 2975 4387 \nQ 3406 4025 3406 3419 \nQ 3406 3131 3298 2873 \nQ 3191 2616 2906 2266 \nQ 2828 2175 2409 1742 \nQ 1991 1309 1228 531 \nz\n\" id=\"DejaVuSans-32\" transform=\"scale(0.015625)\"/>\n       </defs>\n       <use xlink:href=\"#DejaVuSans-32\"/>\n       <use x=\"63.623047\" xlink:href=\"#DejaVuSans-30\"/>\n      </g>\n     </g>\n    </g>\n    <g id=\"xtick_6\">\n     <g id=\"line2d_6\">\n      <g>\n       <use style=\"stroke:#000000;stroke-width:0.8;\" x=\"251.457955\" xlink:href=\"#m179a2472d7\" y=\"224.64\"/>\n      </g>\n     </g>\n     <g id=\"text_6\">\n      <!-- 25 -->\n      <g transform=\"translate(245.095455 239.238437)scale(0.1 -0.1)\">\n       <use xlink:href=\"#DejaVuSans-32\"/>\n       <use x=\"63.623047\" xlink:href=\"#DejaVuSans-35\"/>\n      </g>\n     </g>\n    </g>\n    <g id=\"xtick_7\">\n     <g id=\"line2d_7\">\n      <g>\n       <use style=\"stroke:#000000;stroke-width:0.8;\" x=\"289.503409\" xlink:href=\"#m179a2472d7\" y=\"224.64\"/>\n      </g>\n     </g>\n     <g id=\"text_7\">\n      <!-- 30 -->\n      <g transform=\"translate(283.140909 239.238437)scale(0.1 -0.1)\">\n       <defs>\n        <path d=\"M 2597 2516 \nQ 3050 2419 3304 2112 \nQ 3559 1806 3559 1356 \nQ 3559 666 3084 287 \nQ 2609 -91 1734 -91 \nQ 1441 -91 1130 -33 \nQ 819 25 488 141 \nL 488 750 \nQ 750 597 1062 519 \nQ 1375 441 1716 441 \nQ 2309 441 2620 675 \nQ 2931 909 2931 1356 \nQ 2931 1769 2642 2001 \nQ 2353 2234 1838 2234 \nL 1294 2234 \nL 1294 2753 \nL 1863 2753 \nQ 2328 2753 2575 2939 \nQ 2822 3125 2822 3475 \nQ 2822 3834 2567 4026 \nQ 2313 4219 1838 4219 \nQ 1578 4219 1281 4162 \nQ 984 4106 628 3988 \nL 628 4550 \nQ 988 4650 1302 4700 \nQ 1616 4750 1894 4750 \nQ 2613 4750 3031 4423 \nQ 3450 4097 3450 3541 \nQ 3450 3153 3228 2886 \nQ 3006 2619 2597 2516 \nz\n\" id=\"DejaVuSans-33\" transform=\"scale(0.015625)\"/>\n       </defs>\n       <use xlink:href=\"#DejaVuSans-33\"/>\n       <use x=\"63.623047\" xlink:href=\"#DejaVuSans-30\"/>\n      </g>\n     </g>\n    </g>\n    <g id=\"xtick_8\">\n     <g id=\"line2d_8\">\n      <g>\n       <use style=\"stroke:#000000;stroke-width:0.8;\" x=\"327.548864\" xlink:href=\"#m179a2472d7\" y=\"224.64\"/>\n      </g>\n     </g>\n     <g id=\"text_8\">\n      <!-- 35 -->\n      <g transform=\"translate(321.186364 239.238437)scale(0.1 -0.1)\">\n       <use xlink:href=\"#DejaVuSans-33\"/>\n       <use x=\"63.623047\" xlink:href=\"#DejaVuSans-35\"/>\n      </g>\n     </g>\n    </g>\n    <g id=\"xtick_9\">\n     <g id=\"line2d_9\">\n      <g>\n       <use style=\"stroke:#000000;stroke-width:0.8;\" x=\"365.594318\" xlink:href=\"#m179a2472d7\" y=\"224.64\"/>\n      </g>\n     </g>\n     <g id=\"text_9\">\n      <!-- 40 -->\n      <g transform=\"translate(359.231818 239.238437)scale(0.1 -0.1)\">\n       <defs>\n        <path d=\"M 2419 4116 \nL 825 1625 \nL 2419 1625 \nL 2419 4116 \nz\nM 2253 4666 \nL 3047 4666 \nL 3047 1625 \nL 3713 1625 \nL 3713 1100 \nL 3047 1100 \nL 3047 0 \nL 2419 0 \nL 2419 1100 \nL 313 1100 \nL 313 1709 \nL 2253 4666 \nz\n\" id=\"DejaVuSans-34\" transform=\"scale(0.015625)\"/>\n       </defs>\n       <use xlink:href=\"#DejaVuSans-34\"/>\n       <use x=\"63.623047\" xlink:href=\"#DejaVuSans-30\"/>\n      </g>\n     </g>\n    </g>\n   </g>\n   <g id=\"matplotlib.axis_2\">\n    <g id=\"ytick_1\">\n     <g id=\"line2d_10\">\n      <defs>\n       <path d=\"M 0 0 \nL -3.5 0 \n\" id=\"mc31cc8f51c\" style=\"stroke:#000000;stroke-width:0.8;\"/>\n      </defs>\n      <g>\n       <use style=\"stroke:#000000;stroke-width:0.8;\" x=\"46.0125\" xlink:href=\"#mc31cc8f51c\" y=\"211.761322\"/>\n      </g>\n     </g>\n     <g id=\"text_10\">\n      <!-- 8000 -->\n      <g transform=\"translate(13.5625 215.560541)scale(0.1 -0.1)\">\n       <defs>\n        <path d=\"M 2034 2216 \nQ 1584 2216 1326 1975 \nQ 1069 1734 1069 1313 \nQ 1069 891 1326 650 \nQ 1584 409 2034 409 \nQ 2484 409 2743 651 \nQ 3003 894 3003 1313 \nQ 3003 1734 2745 1975 \nQ 2488 2216 2034 2216 \nz\nM 1403 2484 \nQ 997 2584 770 2862 \nQ 544 3141 544 3541 \nQ 544 4100 942 4425 \nQ 1341 4750 2034 4750 \nQ 2731 4750 3128 4425 \nQ 3525 4100 3525 3541 \nQ 3525 3141 3298 2862 \nQ 3072 2584 2669 2484 \nQ 3125 2378 3379 2068 \nQ 3634 1759 3634 1313 \nQ 3634 634 3220 271 \nQ 2806 -91 2034 -91 \nQ 1263 -91 848 271 \nQ 434 634 434 1313 \nQ 434 1759 690 2068 \nQ 947 2378 1403 2484 \nz\nM 1172 3481 \nQ 1172 3119 1398 2916 \nQ 1625 2713 2034 2713 \nQ 2441 2713 2670 2916 \nQ 2900 3119 2900 3481 \nQ 2900 3844 2670 4047 \nQ 2441 4250 2034 4250 \nQ 1625 4250 1398 4047 \nQ 1172 3844 1172 3481 \nz\n\" id=\"DejaVuSans-38\" transform=\"scale(0.015625)\"/>\n       </defs>\n       <use xlink:href=\"#DejaVuSans-38\"/>\n       <use x=\"63.623047\" xlink:href=\"#DejaVuSans-30\"/>\n       <use x=\"127.246094\" xlink:href=\"#DejaVuSans-30\"/>\n       <use x=\"190.869141\" xlink:href=\"#DejaVuSans-30\"/>\n      </g>\n     </g>\n    </g>\n    <g id=\"ytick_2\">\n     <g id=\"line2d_11\">\n      <g>\n       <use style=\"stroke:#000000;stroke-width:0.8;\" x=\"46.0125\" xlink:href=\"#mc31cc8f51c\" y=\"185.138733\"/>\n      </g>\n     </g>\n     <g id=\"text_11\">\n      <!-- 10000 -->\n      <g transform=\"translate(7.2 188.937952)scale(0.1 -0.1)\">\n       <use xlink:href=\"#DejaVuSans-31\"/>\n       <use x=\"63.623047\" xlink:href=\"#DejaVuSans-30\"/>\n       <use x=\"127.246094\" xlink:href=\"#DejaVuSans-30\"/>\n       <use x=\"190.869141\" xlink:href=\"#DejaVuSans-30\"/>\n       <use x=\"254.492188\" xlink:href=\"#DejaVuSans-30\"/>\n      </g>\n     </g>\n    </g>\n    <g id=\"ytick_3\">\n     <g id=\"line2d_12\">\n      <g>\n       <use style=\"stroke:#000000;stroke-width:0.8;\" x=\"46.0125\" xlink:href=\"#mc31cc8f51c\" y=\"158.516143\"/>\n      </g>\n     </g>\n     <g id=\"text_12\">\n      <!-- 12000 -->\n      <g transform=\"translate(7.2 162.315362)scale(0.1 -0.1)\">\n       <use xlink:href=\"#DejaVuSans-31\"/>\n       <use x=\"63.623047\" xlink:href=\"#DejaVuSans-32\"/>\n       <use x=\"127.246094\" xlink:href=\"#DejaVuSans-30\"/>\n       <use x=\"190.869141\" xlink:href=\"#DejaVuSans-30\"/>\n       <use x=\"254.492188\" xlink:href=\"#DejaVuSans-30\"/>\n      </g>\n     </g>\n    </g>\n    <g id=\"ytick_4\">\n     <g id=\"line2d_13\">\n      <g>\n       <use style=\"stroke:#000000;stroke-width:0.8;\" x=\"46.0125\" xlink:href=\"#mc31cc8f51c\" y=\"131.893554\"/>\n      </g>\n     </g>\n     <g id=\"text_13\">\n      <!-- 14000 -->\n      <g transform=\"translate(7.2 135.692772)scale(0.1 -0.1)\">\n       <use xlink:href=\"#DejaVuSans-31\"/>\n       <use x=\"63.623047\" xlink:href=\"#DejaVuSans-34\"/>\n       <use x=\"127.246094\" xlink:href=\"#DejaVuSans-30\"/>\n       <use x=\"190.869141\" xlink:href=\"#DejaVuSans-30\"/>\n       <use x=\"254.492188\" xlink:href=\"#DejaVuSans-30\"/>\n      </g>\n     </g>\n    </g>\n    <g id=\"ytick_5\">\n     <g id=\"line2d_14\">\n      <g>\n       <use style=\"stroke:#000000;stroke-width:0.8;\" x=\"46.0125\" xlink:href=\"#mc31cc8f51c\" y=\"105.270964\"/>\n      </g>\n     </g>\n     <g id=\"text_14\">\n      <!-- 16000 -->\n      <g transform=\"translate(7.2 109.070183)scale(0.1 -0.1)\">\n       <defs>\n        <path d=\"M 2113 2584 \nQ 1688 2584 1439 2293 \nQ 1191 2003 1191 1497 \nQ 1191 994 1439 701 \nQ 1688 409 2113 409 \nQ 2538 409 2786 701 \nQ 3034 994 3034 1497 \nQ 3034 2003 2786 2293 \nQ 2538 2584 2113 2584 \nz\nM 3366 4563 \nL 3366 3988 \nQ 3128 4100 2886 4159 \nQ 2644 4219 2406 4219 \nQ 1781 4219 1451 3797 \nQ 1122 3375 1075 2522 \nQ 1259 2794 1537 2939 \nQ 1816 3084 2150 3084 \nQ 2853 3084 3261 2657 \nQ 3669 2231 3669 1497 \nQ 3669 778 3244 343 \nQ 2819 -91 2113 -91 \nQ 1303 -91 875 529 \nQ 447 1150 447 2328 \nQ 447 3434 972 4092 \nQ 1497 4750 2381 4750 \nQ 2619 4750 2861 4703 \nQ 3103 4656 3366 4563 \nz\n\" id=\"DejaVuSans-36\" transform=\"scale(0.015625)\"/>\n       </defs>\n       <use xlink:href=\"#DejaVuSans-31\"/>\n       <use x=\"63.623047\" xlink:href=\"#DejaVuSans-36\"/>\n       <use x=\"127.246094\" xlink:href=\"#DejaVuSans-30\"/>\n       <use x=\"190.869141\" xlink:href=\"#DejaVuSans-30\"/>\n       <use x=\"254.492188\" xlink:href=\"#DejaVuSans-30\"/>\n      </g>\n     </g>\n    </g>\n    <g id=\"ytick_6\">\n     <g id=\"line2d_15\">\n      <g>\n       <use style=\"stroke:#000000;stroke-width:0.8;\" x=\"46.0125\" xlink:href=\"#mc31cc8f51c\" y=\"78.648375\"/>\n      </g>\n     </g>\n     <g id=\"text_15\">\n      <!-- 18000 -->\n      <g transform=\"translate(7.2 82.447593)scale(0.1 -0.1)\">\n       <use xlink:href=\"#DejaVuSans-31\"/>\n       <use x=\"63.623047\" xlink:href=\"#DejaVuSans-38\"/>\n       <use x=\"127.246094\" xlink:href=\"#DejaVuSans-30\"/>\n       <use x=\"190.869141\" xlink:href=\"#DejaVuSans-30\"/>\n       <use x=\"254.492188\" xlink:href=\"#DejaVuSans-30\"/>\n      </g>\n     </g>\n    </g>\n    <g id=\"ytick_7\">\n     <g id=\"line2d_16\">\n      <g>\n       <use style=\"stroke:#000000;stroke-width:0.8;\" x=\"46.0125\" xlink:href=\"#mc31cc8f51c\" y=\"52.025785\"/>\n      </g>\n     </g>\n     <g id=\"text_16\">\n      <!-- 20000 -->\n      <g transform=\"translate(7.2 55.825004)scale(0.1 -0.1)\">\n       <use xlink:href=\"#DejaVuSans-32\"/>\n       <use x=\"63.623047\" xlink:href=\"#DejaVuSans-30\"/>\n       <use x=\"127.246094\" xlink:href=\"#DejaVuSans-30\"/>\n       <use x=\"190.869141\" xlink:href=\"#DejaVuSans-30\"/>\n       <use x=\"254.492188\" xlink:href=\"#DejaVuSans-30\"/>\n      </g>\n     </g>\n    </g>\n    <g id=\"ytick_8\">\n     <g id=\"line2d_17\">\n      <g>\n       <use style=\"stroke:#000000;stroke-width:0.8;\" x=\"46.0125\" xlink:href=\"#mc31cc8f51c\" y=\"25.403196\"/>\n      </g>\n     </g>\n     <g id=\"text_17\">\n      <!-- 22000 -->\n      <g transform=\"translate(7.2 29.202414)scale(0.1 -0.1)\">\n       <use xlink:href=\"#DejaVuSans-32\"/>\n       <use x=\"63.623047\" xlink:href=\"#DejaVuSans-32\"/>\n       <use x=\"127.246094\" xlink:href=\"#DejaVuSans-30\"/>\n       <use x=\"190.869141\" xlink:href=\"#DejaVuSans-30\"/>\n       <use x=\"254.492188\" xlink:href=\"#DejaVuSans-30\"/>\n      </g>\n     </g>\n    </g>\n   </g>\n   <g id=\"line2d_18\">\n    <path clip-path=\"url(#pd80fe51577)\" d=\"M 61.230682 191.845493 \nL 68.839773 213.382642 \nL 76.448864 209.188239 \nL 84.057955 120.679802 \nL 91.667045 121.124196 \nL 99.276136 119.763636 \nL 106.885227 105.236984 \nL 114.494318 101.654426 \nL 122.103409 72.154101 \nL 129.7125 149.921597 \nL 137.321591 153.201557 \nL 144.930682 138.570585 \nL 152.539773 138.985029 \nL 160.148864 133.68222 \nL 167.757955 57.401078 \nL 175.367045 52.651936 \nL 182.976136 44.23015 \nL 190.585227 45.397514 \nL 198.194318 200.822597 \nL 205.803409 194.828263 \nL 213.4125 201.243411 \nL 221.021591 194.834503 \nL 228.630682 187.835232 \nL 236.239773 181.203828 \nL 243.848864 185.540528 \nL 251.457955 190.978153 \nL 259.067045 195.036902 \nL 266.676136 130.530238 \nL 274.285227 151.162368 \nL 281.894318 161.313959 \nL 289.503409 101.197487 \nL 297.1125 87.771889 \nL 304.721591 98.947345 \nL 312.330682 87.188246 \nL 319.939773 62.126068 \nL 327.548864 49.811482 \nL 335.157955 96.742636 \nL 342.767045 65.764107 \nL 350.376136 73.252907 \nL 357.985227 56.928189 \nL 365.594318 82.771808 \n\" style=\"fill:none;stroke:#800080;stroke-linecap:square;stroke-width:1.5;\"/>\n   </g>\n   <g id=\"line2d_19\">\n    <path clip-path=\"url(#pd80fe51577)\" d=\"M 61.230682 208.593234 \nL 68.839773 194.483262 \nL 76.448864 191.288551 \nL 84.057955 205.784551 \nL 91.667045 189.94411 \nL 99.276136 185.285157 \nL 106.885227 169.17849 \nL 114.494318 164.519537 \nL 122.103409 83.054413 \nL 129.7125 199.142215 \nL 137.321591 175.847449 \nL 144.930682 185.298468 \nL 152.539773 173.18519 \nL 160.148864 168.526237 \nL 167.757955 97.843262 \nL 175.367045 105.297587 \nL 182.976136 109.397466 \nL 190.585227 108.598788 \nL 198.194318 214.756364 \nL 205.803409 212.094105 \nL 213.4125 211.827879 \nL 221.021591 209.16562 \nL 228.630682 205.172231 \nL 236.239773 191.860937 \nL 243.848864 185.205289 \nL 251.457955 163.907218 \nL 259.067045 185.404959 \nL 266.676136 141.278017 \nL 274.285227 133.956804 \nL 281.894318 154.655868 \nL 289.503409 146.003526 \nL 297.1125 139.680661 \nL 304.721591 105.470634 \nL 312.330682 98.415647 \nL 319.939773 73.057631 \nL 327.548864 66.002645 \nL 335.157955 94.02292 \nL 342.767045 64.738072 \nL 350.376136 32.258512 \nL 357.985227 19.146887 \nL 365.594318 17.083636 \n\" style=\"fill:none;stroke:#ffa500;stroke-linecap:square;stroke-width:1.5;\"/>\n   </g>\n   <g id=\"patch_3\">\n    <path d=\"M 46.0125 224.64 \nL 46.0125 7.2 \n\" style=\"fill:none;stroke:#000000;stroke-linecap:square;stroke-linejoin:miter;stroke-width:0.8;\"/>\n   </g>\n   <g id=\"patch_4\">\n    <path d=\"M 380.8125 224.64 \nL 380.8125 7.2 \n\" style=\"fill:none;stroke:#000000;stroke-linecap:square;stroke-linejoin:miter;stroke-width:0.8;\"/>\n   </g>\n   <g id=\"patch_5\">\n    <path d=\"M 46.0125 224.64 \nL 380.8125 224.64 \n\" style=\"fill:none;stroke:#000000;stroke-linecap:square;stroke-linejoin:miter;stroke-width:0.8;\"/>\n   </g>\n   <g id=\"patch_6\">\n    <path d=\"M 46.0125 7.2 \nL 380.8125 7.2 \n\" style=\"fill:none;stroke:#000000;stroke-linecap:square;stroke-linejoin:miter;stroke-width:0.8;\"/>\n   </g>\n  </g>\n </g>\n <defs>\n  <clipPath id=\"pd80fe51577\">\n   <rect height=\"217.44\" width=\"334.8\" x=\"46.0125\" y=\"7.2\"/>\n  </clipPath>\n </defs>\n</svg>\n",
      "image/png": "[encoded data removed]"
     },
     "metadata": {
      "needs_background": "light"
     }
    }
   ],
   "source": [
    "# Now, use model on test data and see how it performs:\n",
    "test_predictions = model(X_test)\n",
    "\n",
    "# purple line is model predictions\n",
    "plt.plot(test_predictions.detach().numpy(), 'purple')\n",
    "\n",
    "# orange line is target value`\n",
    "plt.plot(Y_test.detach().numpy(), 'orange')"
   ]
  },
  {
   "cell_type": "code",
   "execution_count": 24,
   "metadata": {},
   "outputs": [
    {
     "output_type": "execute_result",
     "data": {
      "text/plain": [
       "tensor(8359429.5000, grad_fn=<DivBackward0>)"
      ]
     },
     "metadata": {},
     "execution_count": 24
    }
   ],
   "source": [
    "loss = 0\n",
    "for prediction, target in zip(test_predictions, Y_test):\n",
    "    loss += loss_fn(prediction, target)\n",
    "\n",
    "avg_loss = loss / test_predictions.shape[0]\n",
    "avg_loss\n"
   ]
  }
 ],
 "metadata": {
  "kernelspec": {
   "name": "dose",
   "display_name": "dose",
   "language": "python"
  }
 },
 "nbformat": 4,
 "nbformat_minor": 5
}